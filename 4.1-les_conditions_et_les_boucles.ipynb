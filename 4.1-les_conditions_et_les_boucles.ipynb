{
 "cells": [
  {
   "cell_type": "markdown",
   "metadata": {},
   "source": [
    "# Les boucles et conditions"
   ]
  },
  {
   "cell_type": "markdown",
   "metadata": {},
   "source": [
    "Le **déroulement du programme** est l’ordre dans lequel les lignes de code sont exécutées. Certaines lignes seront lues une fois seulement, d’autres plusieurs fois. D’autres encore pourraient être complètement ignorées, tout dépend de la façon dont vous les avez codées.\n",
    "\n",
    "Les **instructions conditionnelles** sont un moyen de contrôler la logique et le déroulement de votre code avec des conditions. Vous prenez tout le temps des décisions d’après des conditions dans votre vie quotidienne.\n",
    "\n",
    "Par exemple : S’il fait beau dehors, je vais à la plage. Dans ce scénario, votre décision d’aller à la plage dépend du climat. Le climat est donc la condition. \n",
    "\n",
    "Voyons comment ce type de logique fonctionne dans le code."
   ]
  },
  {
   "cell_type": "markdown",
   "metadata": {},
   "source": [
    "## Les conditions if"
   ]
  },
  {
   "cell_type": "markdown",
   "metadata": {},
   "source": [
    "L’un des blocs essentiels à la structure d’un déroulement conditionnel est **l’instruction if**.\n",
    "\n",
    "Avec une instruction if, vous pouvez exécuter certaines lignes de code uniquement si une certaine condition est vraie (**True**). Si cette condition est fausse (**False**), le code ne s’exécutera pas. "
   ]
  },
  {
   "cell_type": "code",
   "execution_count": null,
   "metadata": {},
   "outputs": [],
   "source": [
    "\"\"\" Structure générale d'une condition if \"\"\"\n",
    "if mon_booleen:\n",
    "   # exécuter le code quand mon_booleen est vrai\n",
    "else:\n",
    "   # exécuter le code quand mon_booleen est faux"
   ]
  },
  {
   "cell_type": "markdown",
   "metadata": {},
   "source": [
    "![images](https://waytolearnx.com/ezoimgfmt/3.bp.blogspot.com/--OvVc1PqWjE/WKetbTqHwdI/AAAAAAAAHvU/34Qhr_hIS0srjZgP5hkb2zmg3qo5IKyPACLcB/s320/if-else.jpg?ezimgfmt=rs:308x320/rscb1/ng:webp/ngcb1)"
   ]
  },
  {
   "cell_type": "code",
   "execution_count": 2,
   "metadata": {},
   "outputs": [
    {
     "name": "stdout",
     "output_type": "stream",
     "text": [
      "on reste à la maison !\n"
     ]
    }
   ],
   "source": [
    "\"\"\" Exemple \"\"\"\n",
    "\n",
    "ensoleille = False\n",
    "weekend = False\n",
    "\n",
    "if ensoleille:\n",
    "    print(\"on va à la plage !\")\n",
    "else:\n",
    "    print(\"on reste à la maison !\")"
   ]
  },
  {
   "cell_type": "markdown",
   "metadata": {},
   "source": [
    "Rappel: Les booléens peuvent être combinés avec des opérateurs logiques (and, or ..) ou issus de comparaisons (<, >, == ...)"
   ]
  },
  {
   "cell_type": "code",
   "execution_count": 1,
   "metadata": {},
   "outputs": [
    {
     "name": "stdout",
     "output_type": "stream",
     "text": [
      "on fait un bonhomme de neige\n",
      "8\n",
      "nothing\n"
     ]
    }
   ],
   "source": [
    "\"\"\" Il est également possible d'ajouter d'autres conditions\"\"\"\n",
    "\n",
    "ensoleille = False\n",
    "neige = True\n",
    "\n",
    "if ensoleille:\n",
    "    print(\"on va à la plage !\")\n",
    "elif neige:\n",
    "    print(\"on fait un bonhomme de neige\")\n",
    "else:\n",
    "    print(\"on reste à la maison !\")\n",
    "\n",
    "a = 8\n",
    "\n",
    "if a > 2:\n",
    "    print(a)\n",
    "if a < 7:\n",
    "    print(a)\n",
    "else:\n",
    "    print(\"nothing\")\n",
    " \n"
   ]
  },
  {
   "cell_type": "markdown",
   "metadata": {},
   "source": [
    "## Exercice sur les conditions if"
   ]
  },
  {
   "cell_type": "markdown",
   "metadata": {},
   "source": [
    "**`Exercice 1`**: quelle est la valeur de x?"
   ]
  },
  {
   "cell_type": "code",
   "execution_count": 1,
   "metadata": {},
   "outputs": [
    {
     "name": "stdout",
     "output_type": "stream",
     "text": [
      "8\n"
     ]
    }
   ],
   "source": [
    "a = True\n",
    "b = False\n",
    "c = True\n",
    "\n",
    "if a and b:\n",
    "    x = 5\n",
    "elif not c:\n",
    "    x = 4\n",
    "elif a:\n",
    "    x = 8\n",
    "else:\n",
    "    x = 7\n",
    "\n",
    "print(x)"
   ]
  },
  {
   "cell_type": "markdown",
   "metadata": {},
   "source": [
    "**`Exercice 2`**: devinez ce qui va être affiché"
   ]
  },
  {
   "cell_type": "code",
   "execution_count": 2,
   "metadata": {},
   "outputs": [
    {
     "name": "stdout",
     "output_type": "stream",
     "text": [
      "c'est faux\n"
     ]
    }
   ],
   "source": [
    "a = 3\n",
    "b = 7\n",
    "c = 5\n",
    "\n",
    "if (a < b or b != c) and c >= b:\n",
    "    print(\"c'est vrai\")\n",
    "else:\n",
    "    print(\"c'est faux\")"
   ]
  },
  {
   "cell_type": "markdown",
   "metadata": {},
   "source": [
    "**`Exercice 3`**: \n",
    "Ecrire un programme Python qui demande à l'utilisateur de saisir un nombre entier, puis affiche si ce nombre est pair ou impair."
   ]
  },
  {
   "cell_type": "code",
   "execution_count": 4,
   "metadata": {},
   "outputs": [
    {
     "name": "stdin",
     "output_type": "stream",
     "text": [
      "Entrez un nombre entier :  1\n"
     ]
    },
    {
     "name": "stdout",
     "output_type": "stream",
     "text": [
      "1 est impair.\n"
     ]
    }
   ],
   "source": [
    "nombre = int(input(\"Entrez un nombre entier : \"))\n",
    "\n",
    "if nombre % 2 == 0:\n",
    "    print(nombre, \"est pair.\")\n",
    "else:\n",
    "    print(nombre, \"est impair.\")"
   ]
  },
  {
   "cell_type": "markdown",
   "metadata": {},
   "source": [
    "**`Exercice 4`**: Ecrire un programme Python qui demande à l'utilisateur de saisir deux nombres entiers, puis affiche le plus grand des deux nombres."
   ]
  },
  {
   "cell_type": "code",
   "execution_count": 5,
   "metadata": {},
   "outputs": [
    {
     "name": "stdin",
     "output_type": "stream",
     "text": [
      "Entrez le premier nombre entier :  1\n",
      "Entrez le deuxième nombre entier :  2\n"
     ]
    },
    {
     "name": "stdout",
     "output_type": "stream",
     "text": [
      "2 est plus grand que 1\n"
     ]
    }
   ],
   "source": [
    "nombre1 = int(input(\"Entrez le premier nombre entier : \"))\n",
    "nombre2 = int(input(\"Entrez le deuxième nombre entier : \"))\n",
    "\n",
    "if nombre1 > nombre2:\n",
    "    print(nombre1, \"est plus grand que\", nombre2)\n",
    "elif nombre1 < nombre2:\n",
    "    print(nombre2, \"est plus grand que\", nombre1)\n",
    "else:\n",
    "    print(nombre1, \"et\", nombre2, \"sont égaux.\")"
   ]
  },
  {
   "cell_type": "markdown",
   "metadata": {},
   "source": [
    "# Les boucles"
   ]
  },
  {
   "cell_type": "markdown",
   "metadata": {},
   "source": [
    "## La boucle for"
   ]
  },
  {
   "cell_type": "markdown",
   "metadata": {},
   "source": [
    "La boucle for est le type de boucle centrale dans Python. Une boucle  for  est utilisée pour itérer sur une séquence. Ça peut être une liste, un tuple, un dictionnaire ou même une chaîne de caractères. Avec une boucle for, vous pouvez exécuter le même code pour chaque élément dans cette séquence. \n",
    "\n",
    "Avec Python, c’est très facile de créer des boucles. Si vous voulez afficher tous les éléments dans une liste, le code ressemblera à ça :\n",
    "\n"
   ]
  },
  {
   "cell_type": "code",
   "execution_count": 9,
   "metadata": {},
   "outputs": [
    {
     "data": {
      "text/plain": [
       "'Pascal'"
      ]
     },
     "execution_count": 9,
     "metadata": {},
     "output_type": "execute_result"
    }
   ],
   "source": [
    "#Le principal interet de la boucle for est de parcourir des listes\n",
    "liste_apprenants = [\"Pascal\", \"Azel\", \"Tony\", \"Sophie\", \"Sabrina\"]\n",
    "liste_apprenants[0]"
   ]
  },
  {
   "cell_type": "code",
   "execution_count": 8,
   "metadata": {},
   "outputs": [
    {
     "name": "stdout",
     "output_type": "stream",
     "text": [
      "Pascal\n",
      "Azel\n",
      "Tony\n",
      "Vladimir\n",
      "Sabrina\n"
     ]
    }
   ],
   "source": [
    "for element in liste_apprenants:\n",
    "    print(element)"
   ]
  },
  {
   "cell_type": "markdown",
   "metadata": {},
   "source": [
    "![images](https://user.oc-static.com/upload/2021/06/23/16244760088692_2C2_for-loop.png)"
   ]
  },
  {
   "cell_type": "markdown",
   "metadata": {},
   "source": [
    "La variable **element** est appelée variable d'itération, elle prend successivement les différentes valeurs de la liste **liste_apprenants** à chaque itération de la boucle. On verra un peu plus loin dans ce chapitre que l'on peut choisir le nom que l'on veut pour cette variable. Celle-ci est créée par Python la première fois que la ligne contenant le for est exécutée (si elle existait déjà son contenu serait écrasé). Une fois la boucle terminée, cette variable d'itération **element** ne sera pas détruite et contiendra ainsi la dernière valeur de la liste **liste_apprenants** "
   ]
  },
  {
   "cell_type": "code",
   "execution_count": 10,
   "metadata": {},
   "outputs": [
    {
     "name": "stdout",
     "output_type": "stream",
     "text": [
      "Pascal\n",
      "Azel\n",
      "Tony\n",
      "Sophie\n",
      "Sabrina\n",
      "la liste est terminé\n"
     ]
    }
   ],
   "source": [
    "#Le principal interet de la boucle for est de parcourir des listes\n",
    "liste_apprenants = [\"Pascal\", \"Azel\", \"Tony\", \"Sophie\", \"Sabrina\"]\n",
    "for element in liste_apprenants:\n",
    "    print(element)\n",
    "print('la liste est terminé')"
   ]
  },
  {
   "cell_type": "markdown",
   "metadata": {},
   "source": [
    "### Apparté sur la fonction range"
   ]
  },
  {
   "cell_type": "code",
   "execution_count": null,
   "metadata": {},
   "outputs": [],
   "source": [
    "# On peut également s'en servir avec la fonction range, cela permet de parcourir une liste d'entrée"
   ]
  },
  {
   "cell_type": "code",
   "execution_count": 11,
   "metadata": {},
   "outputs": [
    {
     "name": "stdout",
     "output_type": "stream",
     "text": [
      "<class 'range'>\n",
      "range(0, 5)\n"
     ]
    }
   ],
   "source": [
    "print(type(range(5)))\n",
    "print(range(5))"
   ]
  },
  {
   "cell_type": "code",
   "execution_count": 12,
   "metadata": {},
   "outputs": [
    {
     "name": "stdout",
     "output_type": "stream",
     "text": [
      "2\n",
      "4\n",
      "6\n",
      "8\n"
     ]
    }
   ],
   "source": [
    "for i in range(2,10,2):\n",
    "    print(i)"
   ]
  },
  {
   "cell_type": "code",
   "execution_count": 13,
   "metadata": {},
   "outputs": [
    {
     "name": "stdout",
     "output_type": "stream",
     "text": [
      "j = 2\n",
      "j = 4\n",
      "j = 6\n",
      "j = 8\n",
      "j = 10\n",
      "k = 11\n",
      "k = 8\n"
     ]
    }
   ],
   "source": [
    "# la fonction range peut prendre plusieurs arguments:\n",
    "premier_element = 2\n",
    "dernier_element_plus_1 = 11\n",
    "pas = 2 # on compte tous les combien\n",
    "\n",
    "for j in range(premier_element,dernier_element_plus_1,pas):\n",
    "    print(f\"j = {j}\")\n",
    "\n",
    "premier_element = 11\n",
    "dernier_element_plus_1 = 7\n",
    "pas = -3 # on compte tous les combien\n",
    "\n",
    "for k in range(premier_element,dernier_element_plus_1,pas):\n",
    "    print(f\"k = {k}\")   "
   ]
  },
  {
   "cell_type": "markdown",
   "metadata": {},
   "source": [
    "### Itération sur les indices ou les éléments"
   ]
  },
  {
   "cell_type": "code",
   "execution_count": 16,
   "metadata": {},
   "outputs": [],
   "source": [
    "sports = ['boxe', 'football', 'basketball', 'danse', 'lancet de javelot', 'sprint']"
   ]
  },
  {
   "cell_type": "code",
   "execution_count": 18,
   "metadata": {},
   "outputs": [
    {
     "name": "stdout",
     "output_type": "stream",
     "text": [
      "boxe\n",
      "football\n",
      "basketball\n",
      "danse\n",
      "lancet de javelot\n",
      "sprint\n"
     ]
    }
   ],
   "source": [
    "for i in range(len(sports)):\n",
    "    print(sports[i])"
   ]
  },
  {
   "cell_type": "code",
   "execution_count": 19,
   "metadata": {},
   "outputs": [
    {
     "name": "stdout",
     "output_type": "stream",
     "text": [
      "boxe\n",
      "football\n",
      "basketball\n",
      "danse\n",
      "lancet de javelot\n",
      "sprint\n"
     ]
    }
   ],
   "source": [
    "for sport in sports: \n",
    "    print(sport)"
   ]
  },
  {
   "cell_type": "markdown",
   "metadata": {},
   "source": [
    "Hint : On prévilégie les itérations sur les **élements**"
   ]
  },
  {
   "cell_type": "code",
   "execution_count": 21,
   "metadata": {},
   "outputs": [
    {
     "name": "stdout",
     "output_type": "stream",
     "text": [
      " Le sport 0 est boxe\n",
      " Le sport 1 est football\n",
      " Le sport 2 est basketball\n",
      " Le sport 3 est danse\n",
      " Le sport 4 est lancet de javelot\n",
      " Le sport 5 est sprint\n"
     ]
    }
   ],
   "source": [
    "for i in range(len(sports)):\n",
    "    print(f\" Le sport {i} est {sports[i]}\")"
   ]
  },
  {
   "cell_type": "markdown",
   "metadata": {},
   "source": [
    "### Exercice sur les boucles for"
   ]
  },
  {
   "cell_type": "markdown",
   "metadata": {},
   "source": [
    "**`Exercice 1`**: écrivez un code qui utilise range et qui a la sortie suivante:  \n",
    "canari 1  \n",
    "canari 2  \n",
    "canari 3  \n",
    "canari 4  \n",
    "canari 5  "
   ]
  },
  {
   "cell_type": "code",
   "execution_count": 5,
   "metadata": {},
   "outputs": [
    {
     "name": "stdout",
     "output_type": "stream",
     "text": [
      "canari 1\n",
      "canari 2\n",
      "canari 3\n",
      "canari 4\n",
      "canari 5\n"
     ]
    }
   ],
   "source": [
    "for i in range(1, 6):\n",
    "    print(\"canari\", i)"
   ]
  },
  {
   "cell_type": "markdown",
   "metadata": {},
   "source": [
    "**`Exercice 2`**: Ecrire un programme Python qui calcule la somme des nombres de 1 à n, où n est un nombre entier saisi par l'utilisateur."
   ]
  },
  {
   "cell_type": "code",
   "execution_count": null,
   "metadata": {},
   "outputs": [],
   "source": [
    "n = int(input(\"Entrez un nombre entier : \"))\n",
    "somme = 0\n",
    "\n",
    "for i in range(1, n+1):\n",
    "    somme += i\n",
    "\n",
    "print(\"La somme des nombres de 1 à\", n, \"est :\", somme)"
   ]
  },
  {
   "cell_type": "markdown",
   "metadata": {},
   "source": [
    "**`Exercice 3`**: Ecrire un programme Python qui demande à l'utilisateur de saisir une chaîne de caractères, puis qui affiche cette chaîne à l'envers à l'aide d'une boucle for."
   ]
  },
  {
   "cell_type": "code",
   "execution_count": 25,
   "metadata": {},
   "outputs": [
    {
     "name": "stdin",
     "output_type": "stream",
     "text": [
      "Entrez une chaîne de caractères :  bonjour\n"
     ]
    },
    {
     "name": "stdout",
     "output_type": "stream",
     "text": [
      "La chaîne inversée est : ruojnob\n"
     ]
    }
   ],
   "source": [
    "chaine = input(\"Entrez une chaîne de caractères : \")\n",
    "chaine_inverse = \"\"\n",
    "\n",
    "for i in range(len(chaine)-1, -1, -1):\n",
    "    chaine_inverse += chaine[i]\n",
    "\n",
    "print(\"La chaîne inversée est :\", chaine_inverse)"
   ]
  },
  {
   "cell_type": "markdown",
   "metadata": {},
   "source": [
    "## Boucle While"
   ]
  },
  {
   "cell_type": "markdown",
   "metadata": {},
   "source": [
    "Une autre alternative à l'instruction for couramment utilisée en informatique est la boucle while. Le principe est simple. Une série d'instructions est exécutée tant qu'une condition est vraie."
   ]
  },
  {
   "cell_type": "markdown",
   "metadata": {},
   "source": [
    "![images](https://i0.wp.com/datascientest.com/wp-content/uploads/2022/12/boucle-while.png?w=1200&ssl=1)"
   ]
  },
  {
   "cell_type": "markdown",
   "metadata": {},
   "source": [
    "Une boucle while nécessite généralement trois éléments pour fonctionner correctement :\n",
    "\n",
    "- Initialisation de la variable d'itération avant la boucle\n",
    "- Test de la variable d'itération associée à l'instruction while \n",
    "- Mise à jour de la variable d'itération dans le corps de la boucle"
   ]
  },
  {
   "cell_type": "code",
   "execution_count": 23,
   "metadata": {},
   "outputs": [
    {
     "name": "stdout",
     "output_type": "stream",
     "text": [
      "la condition est encore vraie car i vaut 0\n",
      "la condition est encore vraie car i vaut 1\n",
      "la condition est encore vraie car i vaut 2\n",
      "la condition est encore vraie car i vaut 3\n",
      "la condition est encore vraie car i vaut 4\n",
      "la condition est encore vraie car i vaut 5\n",
      "la condition est encore vraie car i vaut 6\n",
      "la condition est encore vraie car i vaut 7\n",
      "la condition est encore vraie car i vaut 8\n",
      "la condition est encore vraie car i vaut 9\n"
     ]
    }
   ],
   "source": [
    "# La structure générale de la boucle while est la suivante:\n",
    "\n",
    "i = 0\n",
    "condition = 10 > i\n",
    "\n",
    "while condition:\n",
    "    print(f\"la condition est encore vraie car i vaut {i}\")\n",
    "    i += 1 # on appelle cela l'incrementation\n",
    "    condition = 10 > i\n"
   ]
  },
  {
   "cell_type": "code",
   "execution_count": null,
   "metadata": {},
   "outputs": [],
   "source": [
    "# l'incrémentation permet de ne pas créer de boucle infinie\n",
    "i=11\n",
    "condition = 12 > i\n",
    "while condition:\n",
    "    print(\"ceci est une boucle infinie\")\n",
    "    "
   ]
  },
  {
   "cell_type": "markdown",
   "metadata": {},
   "source": [
    "### Exercices sur le chapitre conditions et boucles"
   ]
  },
  {
   "cell_type": "markdown",
   "metadata": {},
   "source": [
    "**`Mob programming`**: \n",
    "Tu es en charge de la gestion d'une équipe de basket. Tu dois réaliser un programme en Python qui te permettra de trouver les joueurs de ton équipe qui ont une taille supérieure à 1,85 mètres.\n",
    "\n",
    "- Crée une liste appelée \"joueurs\" contenant les éléments suivants :\n",
    "\n",
    "\"Bob\" avec la taille 1,80 mètres\n",
    "\"Alice\" avec la taille 1,75 mètres\n",
    "\"John\" avec la taille 1,90 mètres\n",
    "\"Mike\" avec la taille 1,87 mètres\n",
    "\"Anna\" avec la taille 1,82 mètres\n",
    "- Utilise une boucle for pour parcourir la liste \"joueurs\" et une condition if pour vérifier si la taille d'un joueur est supérieure à 1,85 mètres. Si c'est le cas, affiche le nom du joueur sur la console."
   ]
  },
  {
   "cell_type": "code",
   "execution_count": 6,
   "metadata": {},
   "outputs": [
    {
     "name": "stdout",
     "output_type": "stream",
     "text": [
      "John mesure plus de 1,85 mètres.\n",
      "Mike mesure plus de 1,85 mètres.\n"
     ]
    }
   ],
   "source": [
    "joueurs = [(\"Bob\", 1.80), (\"Alice\", 1.75), (\"John\", 1.90), (\"Mike\", 1.87), (\"Anna\", 1.82)]\n",
    "\n",
    "for joueur in joueurs:\n",
    "    if joueur[1] > 1.85:\n",
    "        print(joueur[0] + \" mesure plus de 1,85 mètres.\")\n"
   ]
  },
  {
   "cell_type": "markdown",
   "metadata": {},
   "source": [
    "**`Exercice 1`**: \n",
    "- Utilisez une boucle for et la fonction \"range\" pour calculer la somme des 100 premier entier naturel\n",
    "- Utilisez la boucle while pour calculer le produit des 100 premiers entier naturel"
   ]
  },
  {
   "cell_type": "code",
   "execution_count": 7,
   "metadata": {},
   "outputs": [
    {
     "name": "stdout",
     "output_type": "stream",
     "text": [
      "La somme des 100 premiers entiers naturels est : 5050\n"
     ]
    }
   ],
   "source": [
    "somme = 0\n",
    "for i in range(1, 101):\n",
    "    somme += i\n",
    "print(\"La somme des 100 premiers entiers naturels est :\", somme)"
   ]
  },
  {
   "cell_type": "code",
   "execution_count": 26,
   "metadata": {},
   "outputs": [
    {
     "data": {
      "text/plain": [
       "5050"
      ]
     },
     "execution_count": 26,
     "metadata": {},
     "output_type": "execute_result"
    }
   ],
   "source": [
    "counter = 0\n",
    "for i in range(101):\n",
    "    counter = counter + i\n",
    "\n",
    "counter"
   ]
  },
  {
   "cell_type": "code",
   "execution_count": 29,
   "metadata": {},
   "outputs": [
    {
     "data": {
      "text/plain": [
       "93326215443944152681699238856266700490715968264381621468592963895217599993229915608941463976156518286253697920827223758251185210916864000000000000000000000000"
      ]
     },
     "execution_count": 29,
     "metadata": {},
     "output_type": "execute_result"
    }
   ],
   "source": [
    "condition = True\n",
    "product = 1\n",
    "i = 1\n",
    "while i <= 100:\n",
    "    product *= i\n",
    "    i = i+1\n",
    "product"
   ]
  },
  {
   "cell_type": "markdown",
   "metadata": {},
   "source": [
    "**`Exercice 2`**: \n",
    "-  A l'aide de la fonction while et la fonction input (help(input)) écrivez cette blague\n",
    "- \"Si repete et pepete  sont dans un bateau, pepete tombe à l'eau, qu'est ce qui reste?\"\n",
    "- si la personne répond \"repète\", le programme pose la meme question : \"Si repete et pepete sont dans un bateau, pepete tombe à l'eau, qu'est ce qui reste?\"\n",
    "- si la personne répond autre chose le programme pose comme question: \"Mais non tu comprends pas, si repete et pepete  sont dans un bateau, pepete tombe à l'eau, qu'est ce qui reste \"\n",
    "- si la personne répond \"tu es lourd\" enfin le programme s'arrete"
   ]
  },
  {
   "cell_type": "code",
   "execution_count": 2,
   "metadata": {},
   "outputs": [
    {
     "name": "stdin",
     "output_type": "stream",
     "text": [
      "Si repete et pepete sont dans un bateau, pepete tombe à l'eau, qu'est-ce qui reste ?  repete\n"
     ]
    },
    {
     "name": "stdout",
     "output_type": "stream",
     "text": [
      "Mais non tu comprends pas, si repete et pepete sont dans un bateau, pepete tombe à l'eau, qu'est-ce qui reste ?\n"
     ]
    },
    {
     "name": "stdin",
     "output_type": "stream",
     "text": [
      "Si repete et pepete sont dans un bateau, pepete tombe à l'eau, qu'est-ce qui reste ?  repete\n"
     ]
    },
    {
     "name": "stdout",
     "output_type": "stream",
     "text": [
      "Mais non tu comprends pas, si repete et pepete sont dans un bateau, pepete tombe à l'eau, qu'est-ce qui reste ?\n"
     ]
    },
    {
     "name": "stdin",
     "output_type": "stream",
     "text": [
      "Si repete et pepete sont dans un bateau, pepete tombe à l'eau, qu'est-ce qui reste ?  tu es lourd\n"
     ]
    }
   ],
   "source": [
    "running = True\n",
    "while running:\n",
    "    answer = input(\"Si repete et pepete sont dans un bateau, pepete tombe à l'eau, qu'est-ce qui reste ? \")\n",
    "    if answer.lower() == \"repète\":\n",
    "        continue\n",
    "    elif answer.lower() == \"tu es lourd\":\n",
    "        running = False\n",
    "    else:\n",
    "        print(\"Mais non tu comprends pas, si repete et pepete sont dans un bateau, pepete tombe à l'eau, qu'est-ce qui reste ?\")"
   ]
  },
  {
   "cell_type": "markdown",
   "metadata": {},
   "source": [
    "**`Exercice 3`**: \n",
    "- Reprenez votre programme en utilisant l'instruction `break`"
   ]
  },
  {
   "cell_type": "code",
   "execution_count": null,
   "metadata": {},
   "outputs": [],
   "source": [
    "while True:\n",
    "    answer = input(\"Si repete et pepete sont dans un bateau, pepete tombe à l'eau, qu'est-ce qui reste ? \")\n",
    "    if answer.lower() == \"repète\":\n",
    "        continue\n",
    "    elif answer.lower() == \"tu es lourd\":\n",
    "        break\n",
    "    else:\n",
    "        print(\"Mais non tu comprends pas, si repete et pepete sont dans un bateau, pepete tombe à l'eau, qu'est-ce qui reste ?\")"
   ]
  },
  {
   "cell_type": "markdown",
   "metadata": {},
   "source": [
    "**`Exercice 4`**: Plus classique et beaucoup moins drole \n",
    "- écrivez un programme script qui demande deux nombres puis renvoie leur somme si les nombres sont valides sinon il renvoie une erreur et demande à nouveaux deux nombres valides."
   ]
  },
  {
   "cell_type": "code",
   "execution_count": null,
   "metadata": {},
   "outputs": [],
   "source": [
    "while True:\n",
    "    try:\n",
    "        x = float(input(\"Entrez un nombre : \"))\n",
    "        y = float(input(\"Entrez un autre nombre : \"))\n",
    "        break\n",
    "    except ValueError:\n",
    "        print(\"Erreur : veuillez entrer des nombres valides.\")\n",
    "\n",
    "sum = x + y\n",
    "print(\"La somme de\", x, \"et\", y, \"est\", sum)"
   ]
  },
  {
   "cell_type": "markdown",
   "metadata": {},
   "source": [
    "**` Exerice long `**: \n",
    "\n",
    "Contexte : Tu travailles dans une entreprise de vente de jeux vidéo et tu es en charge de gérer les stocks de la boutique. Tu dois réaliser un programme en Python qui te permettra de gérer les stocks des différents jeux vidéo de la boutique.\n",
    "\n",
    "- Crée un dictionnaire appelé \"stock_jeux\" qui contient les éléments suivants :\n",
    "La clé \"FIFA\" avec la valeur 20\n",
    "La clé \"Call of Duty\" avec la valeur 15\n",
    "La clé \"Assassin's Creed\" avec la valeur 10\n",
    "La clé \"Minecraft\" avec la valeur 5\n",
    "\n",
    "- Affiche le contenu du dictionnaire \"stock_jeux\" sur la console.\n",
    "\n",
    "- Demande à l'utilisateur d'entrer le nom d'un jeu vidéo.\n",
    "\n",
    "- Si le jeu vidéo existe dans le dictionnaire \"stock_jeux\", demande à l'utilisateur de renseigner la quantité qu'il souhaite acheter.\n",
    "\n",
    "- Si le jeu vidéo n'existe pas dans le dictionnaire \"stock_jeux\", affiche un message d'erreur et redemande à l'utilisateur d'entrer le nom d'un jeu vidéo.\n",
    "\n",
    "- Si la quantité demandée par l'utilisateur est supérieure ou égale à la quantité en stock, affiche un message de confirmation de la vente et décrémente la quantité de ce jeu vidéo dans le dictionnaire \"stock_jeux\".\n",
    "\n",
    "- Si la quantité demandée par l'utilisateur est inférieure à la quantité en stock, affiche un message d'erreur et redemande à l'utilisateur de rentrer la quantité souhaitée.\n",
    "\n",
    "- Répète les étapes 3 à 7 jusqu'à ce que l'utilisateur décide d'arrêter la saisie en entrant \"STOP\".\n",
    "\n",
    "- Affiche le contenu final du dictionnaire \"stock_jeux\" sur la console."
   ]
  },
  {
   "cell_type": "code",
   "execution_count": 4,
   "metadata": {},
   "outputs": [
    {
     "name": "stdout",
     "output_type": "stream",
     "text": [
      "Stock actuel :\n",
      "FIFA: 20\n",
      "Call of Duty: 15\n",
      "Assassin's Creed: 10\n",
      "Minecraft: 5\n"
     ]
    },
    {
     "name": "stdin",
     "output_type": "stream",
     "text": [
      "Entrez le nom du jeu vidéo à acheter (ou tapez STOP pour arrêter) :  FIFA\n",
      "Combien de FIFA souhaitez-vous acheter ?  2\n"
     ]
    },
    {
     "name": "stdout",
     "output_type": "stream",
     "text": [
      "2 exemplaire(s) de FIFA acheté\n"
     ]
    },
    {
     "name": "stdin",
     "output_type": "stream",
     "text": [
      "Entrez le nom du jeu vidéo à acheter (ou tapez STOP pour arrêter) :  STOP\n"
     ]
    },
    {
     "name": "stdout",
     "output_type": "stream",
     "text": [
      "Fin de la saisie.\n"
     ]
    },
    {
     "data": {
      "text/plain": [
       "{'FIFA': 18, 'Call of Duty': 15, \"Assassin's Creed\": 10, 'Minecraft': 5}"
      ]
     },
     "execution_count": 4,
     "metadata": {},
     "output_type": "execute_result"
    }
   ],
   "source": [
    "# Etape 1\n",
    "stock_jeux = {\"FIFA\": 20, \"Call of Duty\": 15, \"Assassin's Creed\": 10, \"Minecraft\": 5}\n",
    "\n",
    "# Etape 2\n",
    "print(\"Stock actuel :\")\n",
    "for jeu, quantite in stock_jeux.items():\n",
    "    print(f\"{jeu}: {quantite}\")\n",
    "\n",
    "# Etape 3-8\n",
    "while True:\n",
    "    # Etape 3\n",
    "    nom_jeu = input(\"Entrez le nom du jeu vidéo à acheter (ou tapez STOP pour arrêter) : \")\n",
    "    \n",
    "    # Etape 8\n",
    "    if nom_jeu == \"STOP\":\n",
    "        print(\"Fin de la saisie.\")\n",
    "        break\n",
    "        \n",
    "    # Etape 4\n",
    "    if nom_jeu in stock_jeux:\n",
    "        quantite_acheter = int(input(f\"Combien de {nom_jeu} souhaitez-vous acheter ? \"))\n",
    "        \n",
    "        # Etape 5\n",
    "        while quantite_acheter > stock_jeux[nom_jeu]:\n",
    "            print(f\"Il ne reste que {stock_jeux[nom_jeu]} exemplaires de {nom_jeu} en stock.\")\n",
    "            quantite_acheter = int(input(f\"Combien de {nom_jeu} souhaitez-vous acheter ? \"))\n",
    "        \n",
    "        # Etape 6\n",
    "        stock_jeux[nom_jeu] -= quantite_acheter\n",
    "        print(f\"{quantite_acheter} exemplaire(s) de {nom_jeu} acheté\")\n",
    "\n"
   ]
  },
  {
   "cell_type": "code",
   "execution_count": null,
   "metadata": {},
   "outputs": [],
   "source": []
  },
  {
   "cell_type": "code",
   "execution_count": null,
   "metadata": {},
   "outputs": [],
   "source": []
  }
 ],
 "metadata": {
  "interpreter": {
   "hash": "4822798685b95d90cac6b9eac85a216cd3011e561666c6311e8088bbadca8e0f"
  },
  "kernelspec": {
   "display_name": "Python 3",
   "language": "python",
   "name": "python3"
  },
  "language_info": {
   "codemirror_mode": {
    "name": "ipython",
    "version": 3
   },
   "file_extension": ".py",
   "mimetype": "text/x-python",
   "name": "python",
   "nbconvert_exporter": "python",
   "pygments_lexer": "ipython3",
   "version": "3.8.5"
  }
 },
 "nbformat": 4,
 "nbformat_minor": 4
}
