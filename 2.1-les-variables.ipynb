{
 "cells": [
  {
   "cell_type": "markdown",
   "metadata": {},
   "source": [
    "# Les variables et les types de variables"
   ]
  },
  {
   "cell_type": "markdown",
   "metadata": {},
   "source": [
    "## Les variables"
   ]
  },
  {
   "cell_type": "markdown",
   "metadata": {},
   "source": [
    "En Python, la déclaration d'une variable et son initialisation (c'est-à-dire la première valeur que l'on va stocker dedans) se font en même temps."
   ]
  },
  {
   "cell_type": "markdown",
   "metadata": {},
   "source": [
    "### Déclarer une variable"
   ]
  },
  {
   "cell_type": "code",
   "execution_count": 4,
   "metadata": {},
   "outputs": [
    {
     "name": "stdout",
     "output_type": "stream",
     "text": [
      "<class 'int'>\n"
     ]
    }
   ],
   "source": [
    "nombre_apprenants = 7\n",
    "print(type(nombre_apprenants))"
   ]
  },
  {
   "cell_type": "markdown",
   "metadata": {},
   "source": [
    "Python a « compris » que la variable était un entier. On dit que Python est un langage au typage dynamique.\n",
    "Python a alloué (réservé) l'espace en mémoire pour y accueillir un entier. Chaque type de variable prend plus ou moins d'espace en mémoire. Python a aussi fait en sorte qu'on puisse retrouver la variable sous le nom x.\n",
    "Enfin, Python a assigné la valeur 7 à la variable nombre_apprenants."
   ]
  },
  {
   "cell_type": "code",
   "execution_count": 3,
   "metadata": {},
   "outputs": [
    {
     "name": "stdout",
     "output_type": "stream",
     "text": [
      "<class 'str'>\n",
      "<class 'float'>\n",
      "Antoine\n",
      "Antoine\n",
      "Antoine\n",
      "Patrick\n"
     ]
    }
   ],
   "source": [
    "formateur = \"Benjamin\"\n",
    "print(type(formateur))\n",
    "pi = 3.14\n",
    "print(type(pi))"
   ]
  },
  {
   "cell_type": "code",
   "execution_count": 5,
   "metadata": {},
   "outputs": [
    {
     "name": "stdout",
     "output_type": "stream",
     "text": [
      "Antoine\n",
      "Antoine\n",
      "Antoine\n",
      "Patrick\n"
     ]
    }
   ],
   "source": [
    "# double déclaration\n",
    "apprenant = eleve = \"Antoine\"\n",
    "print(eleve)\n",
    "print(apprenant)\n",
    "apprenant = \"Patrick\"\n",
    "print(eleve)\n",
    "print(apprenant)"
   ]
  },
  {
   "cell_type": "markdown",
   "metadata": {},
   "source": [
    "Python reconnaît certains types de variable automatiquement (entier, float). Par contre, pour une chaîne de caractères, il faut l'entourer de guillemets (doubles, simples, voire trois guillemets successifs doubles ou simples) afin d'indiquer à Python le début et la fin de la chaîne de caractères.\n",
    "\n",
    "En Python, comme dans la plupart des langages de programmation, c'est le point qui est utilisé comme séparateur décimal. Ainsi, 3.14 est un nombre reconnu comme un float en Python alors que ce n'est pas le cas de 3,14"
   ]
  },
  {
   "cell_type": "markdown",
   "metadata": {},
   "source": [
    "### Afficher une variable"
   ]
  },
  {
   "cell_type": "code",
   "execution_count": 4,
   "metadata": {},
   "outputs": [
    {
     "name": "stdout",
     "output_type": "stream",
     "text": [
      "Charles\n",
      "apprenant:Patrick\n",
      "nombre_apprenants: 12\n",
      "Charles a 12 dans ma formation, dont:  Patrick\n",
      "Charles a 12 dans ma formation, dont:  Patrick\n",
      "formateur='Charles'\n"
     ]
    }
   ],
   "source": [
    "# affichage d'une variable\n",
    "print(formateur)\n",
    "# combinaison de deux variables string\n",
    "print(\"apprenant:\" + apprenant)\n",
    "# combinaison d'une variable string et int\n",
    "print(\"nombre_apprenants:\",  nombre_apprenants)\n",
    "\n",
    "# commentaire avec l'attribut format\n",
    "print( \"{} a {} dans ma formation, dont:  {}\".format(formateur,nombre_apprenants,apprenant))\n",
    "\n",
    "# commentaires avec les f-strings\n",
    "print( f\"{formateur} a {nombre_apprenants} dans ma formation, dont:  {apprenant}\")\n",
    "\n",
    "print (f\"{formateur=}\")\n"
   ]
  },
  {
   "cell_type": "markdown",
   "metadata": {},
   "source": [
    "### Modifier une variable"
   ]
  },
  {
   "cell_type": "code",
   "execution_count": 15,
   "metadata": {},
   "outputs": [
    {
     "name": "stdout",
     "output_type": "stream",
     "text": [
      "nombre_apprenants:  20\n",
      "apprenant:  Antoine\n",
      "eleve:  Denis\n",
      "7\n"
     ]
    }
   ],
   "source": [
    "apprenant = eleve = \"Antoine\"\n",
    "eleve = \"Denis\"\n",
    "nombre_apprenants = nombre_apprenants + 2\n",
    "nombre_apprenants += 2\n",
    "\n",
    "print(\"nombre_apprenants: \", nombre_apprenants)\n",
    "print(\"apprenant: \", apprenant)\n",
    "print(\"eleve: \", eleve)\n",
    "\n",
    "eleve = 7\n",
    "print(eleve)"
   ]
  },
  {
   "cell_type": "code",
   "execution_count": 13,
   "metadata": {},
   "outputs": [
    {
     "name": "stdout",
     "output_type": "stream",
     "text": [
      "apprenant:  Denis\n",
      "eleve:  Antoine\n"
     ]
    }
   ],
   "source": [
    "#permutation\n",
    "eleve,apprenant = apprenant,eleve\n",
    "\n",
    "print(\"apprenant: \", apprenant)\n",
    "print(\"eleve: \", eleve)"
   ]
  },
  {
   "cell_type": "markdown",
   "metadata": {},
   "source": [
    "### Supprimer une variable"
   ]
  },
  {
   "cell_type": "code",
   "execution_count": 16,
   "metadata": {},
   "outputs": [],
   "source": [
    "del apprenants"
   ]
  },
  {
   "cell_type": "markdown",
   "metadata": {},
   "source": [
    "### Nommer une variable avec la Pep-8"
   ]
  },
  {
   "cell_type": "markdown",
   "metadata": {},
   "source": [
    "- Mettez un espace avant et après le signe égal\n",
    "   - apprenant = \"Charles\" et non apprenant=\"Charles\"\n",
    "- Utilisez des noms descriptifs dans votre code.\n",
    "   - exemple: Au lieu de  quantite  (ou pire,qte), ajoutez des détails :quantite_en_stock,solde_actuel, etc.\n",
    "- Utilisez des mots complets.\n",
    "   - exemple,revenu_annuelest plus clair querev_annuel.\n",
    "- Suivez une convention d’appellation commune.\n",
    "   - le snake case : des noms composés de plusieurs mots séparés par des tirets bas(_)\n",
    "      - exemple nombre_de_chats,  reponse_finale  ,  le_meilleur_developpeur_python_du_monde, etc.\n",
    "   - commencez avec une lettre minuscule (surtout pas par un nombre)\n",
    "   - Utilisez uniquement des caractères alphanumériques et des tirets bas... et donc pas d'accents !\n",
    "- N’oubliez pas que les noms de variables sont sensibles à la casse.\n",
    "   - age,  Age  et  AGE  sont trois variables différentes. "
   ]
  },
  {
   "cell_type": "markdown",
   "metadata": {},
   "source": [
    "### S'exercer à manipuler les variables"
   ]
  },
  {
   "cell_type": "markdown",
   "metadata": {},
   "source": [
    "**`Exercice`**: créez l'état civil de votre voisin \n",
    "- déclarer les variables nom, prénom et deuxième prénom puis une variable nom complet à l'aide des trois précédentes\n",
    "- déclarer les variables année actuelle et date de naissance puis créer la variable âge à l'aide des deux pécédentes\n",
    "- remplacer la valeur de la variable nom par celle de nom complet puis supprimer la variable nom complet"
   ]
  },
  {
   "cell_type": "code",
   "execution_count": 1,
   "metadata": {},
   "outputs": [],
   "source": [
    "nom = 'Tardy'\n",
    "prenom = 'Benjamin'\n",
    "deuxieme_prenom = 'Clément'"
   ]
  },
  {
   "cell_type": "code",
   "execution_count": 2,
   "metadata": {},
   "outputs": [],
   "source": [
    "nom_complet = nom + ' ' + prenom + ' ' + deuxieme_prenom"
   ]
  },
  {
   "cell_type": "code",
   "execution_count": 3,
   "metadata": {},
   "outputs": [
    {
     "data": {
      "text/plain": [
       "'Tardy Benjamin Clément'"
      ]
     },
     "execution_count": 3,
     "metadata": {},
     "output_type": "execute_result"
    }
   ],
   "source": [
    "annee_ac"
   ]
  },
  {
   "cell_type": "markdown",
   "metadata": {},
   "source": [
    "## Les types primitifs de variable"
   ]
  },
  {
   "cell_type": "markdown",
   "metadata": {},
   "source": [
    "Les types primitifs de Python sont :\n",
    "\n",
    "- Entier (int)\n",
    "- Flottant (float)\n",
    "- Booléen (bool)\n",
    "- Chaîne de caractères (str)"
   ]
  },
  {
   "cell_type": "code",
   "execution_count": 8,
   "metadata": {},
   "outputs": [
    {
     "name": "stdout",
     "output_type": "stream",
     "text": [
      "<class 'int'> 7\n"
     ]
    }
   ],
   "source": [
    "# Les \"integers\", ou nombres entiers en français\n",
    "nombre_apprentants = 7\n",
    "print(type(nombre_apprentants), nombre_apprentants)"
   ]
  },
  {
   "cell_type": "code",
   "execution_count": 9,
   "metadata": {},
   "outputs": [
    {
     "name": "stdout",
     "output_type": "stream",
     "text": [
      "<class 'float'>25.0\n"
     ]
    }
   ],
   "source": [
    "# Les \"floats\", ou nombres à virgule en français\n",
    "age_moyen_promo = 25.0\n",
    "print(str(type(age_moyen_promo)) + str(age_moyen_promo))"
   ]
  },
  {
   "cell_type": "code",
   "execution_count": 10,
   "metadata": {},
   "outputs": [
    {
     "name": "stdout",
     "output_type": "stream",
     "text": [
      "La variable apprenant est de type <class 'str'> et prend comme valeur Charles\n"
     ]
    }
   ],
   "source": [
    "# Les \"strings\" (str), ou chaines de caractères en français\n",
    "apprenant = \"Charles\"\n",
    "print(\"La variable apprenant est de type \" + str(type(apprenant))+ \" et prend comme valeur \" + str(apprenant))"
   ]
  },
  {
   "cell_type": "code",
   "execution_count": 11,
   "metadata": {},
   "outputs": [
    {
     "name": "stdout",
     "output_type": "stream",
     "text": [
      "La variable est_ce_que_1_plus_1_egale_2 est de type <class 'bool'> et prend comme valeur True\n"
     ]
    }
   ],
   "source": [
    "# Les \"Booléens\" (bool), ou booléen en français, c'est à dire vrai ou faux\n",
    "est_ce_que_1_plus_1_egale_2 = 1 + 1 == 2\n",
    "\n",
    "print(\"La variable est_ce_que_1_plus_1_egale_2 est de type {} et prend comme valeur {}\".format(type(est_ce_que_1_plus_1_egale_2),est_ce_que_1_plus_1_egale_2))"
   ]
  },
  {
   "cell_type": "code",
   "execution_count": 12,
   "metadata": {},
   "outputs": [
    {
     "data": {
      "text/plain": [
       "False"
      ]
     },
     "execution_count": 12,
     "metadata": {},
     "output_type": "execute_result"
    }
   ],
   "source": [
    "a = 8\n",
    "b = 7\n",
    "\n",
    "a == b"
   ]
  },
  {
   "cell_type": "markdown",
   "metadata": {},
   "source": [
    "## Les integers et les floats en détail "
   ]
  },
  {
   "cell_type": "markdown",
   "metadata": {},
   "source": [
    "### Opérations sur les integers et les floats"
   ]
  },
  {
   "cell_type": "code",
   "execution_count": 23,
   "metadata": {},
   "outputs": [
    {
     "name": "stdout",
     "output_type": "stream",
     "text": [
      "4.166666666666667\n",
      "4.0\n"
     ]
    }
   ],
   "source": [
    "x = 12.5\n",
    "y = 3\n",
    "\n",
    "#la somme de x et y (x plus y).\n",
    "somme = x + y   \n",
    "\n",
    "#la différence entre x et y \n",
    "difference = x - y \n",
    "\n",
    "#le produit de x et y\n",
    "produit = x * y \n",
    "\n",
    "# le quotient de x et y (x divisé par y).\n",
    "quotient = x / y \n",
    "print(quotient)\n",
    "\n",
    "# le quotient de x et y sans reste.\n",
    "quotient_sans_reste = x // y \n",
    "print(quotient_sans_reste)\n",
    "\n",
    "# le reste de x divisé par y.\n",
    "reste = x % y  \n",
    "\n",
    "# x à la puissance y\n",
    "puissance = x**y"
   ]
  },
  {
   "cell_type": "markdown",
   "metadata": {},
   "source": [
    "**`Exercice 1`**: Quelle est la valeur et le type de \"truc\"? (de tête)"
   ]
  },
  {
   "cell_type": "code",
   "execution_count": 13,
   "metadata": {},
   "outputs": [],
   "source": [
    "x = 24\n",
    "y = 4.5"
   ]
  },
  {
   "cell_type": "code",
   "execution_count": 14,
   "metadata": {},
   "outputs": [
    {
     "name": "stdout",
     "output_type": "stream",
     "text": [
      "<class 'str'> True\n"
     ]
    }
   ],
   "source": [
    "truc = str(x == (( x // y ) * y) + (x % y)) \n",
    "print(type(truc),truc)"
   ]
  },
  {
   "cell_type": "markdown",
   "metadata": {},
   "source": [
    "**`Exercice 2`**: Add parentheses to the following expression so that it evaluates to 1."
   ]
  },
  {
   "cell_type": "code",
   "execution_count": 15,
   "metadata": {},
   "outputs": [
    {
     "name": "stdout",
     "output_type": "stream",
     "text": [
      "1\n"
     ]
    }
   ],
   "source": [
    "print( (5 - 3) // 2)"
   ]
  },
  {
   "cell_type": "markdown",
   "metadata": {},
   "source": [
    "**`Exercice 3`**: Add parentheses to the following expression so that it evaluates to 0."
   ]
  },
  {
   "cell_type": "code",
   "execution_count": 18,
   "metadata": {},
   "outputs": [
    {
     "name": "stdout",
     "output_type": "stream",
     "text": [
      "0\n"
     ]
    }
   ],
   "source": [
    "print(8 - 3 * 2 - (1 + 1))"
   ]
  },
  {
   "cell_type": "markdown",
   "metadata": {},
   "source": [
    "**`Exercice 4`**: \n",
    "Alice, Bob and Carol have agreed to pool their Halloween candy and split it evenly among themselves. For the sake of their friendship, any candies left over will be smashed. For example, if they collectively bring home 91 candies, they'll take 30 each and smash 1.\n",
    "\n",
    "Write an arithmetic expression below to calculate how many candies they must smash for a given haul."
   ]
  },
  {
   "cell_type": "code",
   "execution_count": 8,
   "metadata": {},
   "outputs": [
    {
     "data": {
      "text/plain": [
       "1"
      ]
     },
     "execution_count": 8,
     "metadata": {},
     "output_type": "execute_result"
    }
   ],
   "source": [
    "# Variables representing the number of candies collected by alice, bob, and carol\n",
    "alice_candies = 121\n",
    "bob_candies = 77\n",
    "carol_candies = 109\n",
    "\n",
    "# Your code goes here! Replace the right-hand side of this assignment with an expression\n",
    "# involving alice_candies, bob_candies, and carol_candies\n",
    "(alice_candies +  bob_candies +  carol_candies) % ((alice_candies +  bob_candies +  carol_candies) //  3)"
   ]
  },
  {
   "cell_type": "code",
   "execution_count": 9,
   "metadata": {},
   "outputs": [],
   "source": [
    "total_candies = alice_candies +  bob_candies +  carol_candies\n",
    "num_friends = 3\n",
    "candies_each = total_candies // num_friends\n",
    "candies_smashed = total_candies % num_friends"
   ]
  },
  {
   "cell_type": "code",
   "execution_count": 10,
   "metadata": {},
   "outputs": [
    {
     "data": {
      "text/plain": [
       "1"
      ]
     },
     "execution_count": 10,
     "metadata": {},
     "output_type": "execute_result"
    }
   ],
   "source": [
    "candies_smashed"
   ]
  },
  {
   "cell_type": "markdown",
   "metadata": {},
   "source": [
    "### Fonctions utiles liées aux integers ou aux float "
   ]
  },
  {
   "cell_type": "code",
   "execution_count": 75,
   "metadata": {},
   "outputs": [],
   "source": [
    "# Valeur absolue de x\n",
    "abs(x)\n",
    "\n",
    "# obtenir l'arrondi d'un float\n",
    "round(x,(nb_digits))\n",
    "\n",
    "# Convert an object to integer\n",
    "s = \"8\"\n",
    "s_as_an_integer = int(s)\n",
    "\n",
    "# Convert an object to float\n",
    "\n",
    "s_as_a_float = float(s)"
   ]
  },
  {
   "cell_type": "markdown",
   "metadata": {},
   "source": [
    "Plus de méthodes dans la documentation: https://docs.python.org/3/library/stdtypes.html"
   ]
  },
  {
   "cell_type": "markdown",
   "metadata": {},
   "source": [
    "## Les strings en détail"
   ]
  },
  {
   "cell_type": "markdown",
   "metadata": {},
   "source": [
    "### Les astuces concernant les strings"
   ]
  },
  {
   "cell_type": "code",
   "execution_count": null,
   "metadata": {},
   "outputs": [],
   "source": [
    "# Pour utiliser le symbole ` dans une string il faut écrire \\``\t\n",
    "a_string = \"J'aime \\\"le\\\" Python!\"\n",
    "print(a_string)\n",
    "a_string = \"comme dit le poète \\\"slkdfnsklfdn\\\"\"\n",
    "\n",
    "# Je peux également utiliser les triples guillements\n",
    "the_same_string = \"\"\"J'aime \n",
    "le Python\"\"\"\n",
    "\n",
    "# Pour sauter une ligne \\n\n",
    "a_string_with_a_space =\t\"a line \\n to an another\"\n",
    "\n",
    "print(a_string, the_same_string, a_string_with_a_space)"
   ]
  },
  {
   "cell_type": "code",
   "execution_count": 41,
   "metadata": {},
   "outputs": [
    {
     "name": "stdout",
     "output_type": "stream",
     "text": [
      "r\n"
     ]
    },
    {
     "data": {
      "text/plain": [
       "6"
      ]
     },
     "execution_count": 41,
     "metadata": {},
     "output_type": "execute_result"
    }
   ],
   "source": [
    "n = 2\n",
    "the_string = \"string\"\n",
    "\n",
    "# Renvoie le n ème élément d'une liste \n",
    "print(the_string[n]) \n",
    "\n",
    "# Renvoie le nombre de caractère dans la string\n",
    "len(the_string)"
   ]
  },
  {
   "cell_type": "markdown",
   "metadata": {},
   "source": [
    "### Opération sur les strings (un peu étonnant certes)"
   ]
  },
  {
   "cell_type": "code",
   "execution_count": 21,
   "metadata": {},
   "outputs": [
    {
     "name": "stdout",
     "output_type": "stream",
     "text": [
      "Salut\n",
      "Salut Python\n",
      "SalutSalutSalut\n"
     ]
    }
   ],
   "source": [
    "chaine = \"Salut\"\n",
    "print(chaine)\n",
    "print(chaine + \" Python\")\n",
    "print(chaine * 3)"
   ]
  },
  {
   "cell_type": "markdown",
   "metadata": {},
   "source": [
    "Vous observez que les opérateurs + et * se comportent différemment s'il s'agit d'entiers ou de chaînes de caractères : 2 + 2 est une addition alors que \"2\" + \"2\" est une concaténation. On appelle ce comportement redéfinition des opérateurs. "
   ]
  },
  {
   "cell_type": "markdown",
   "metadata": {},
   "source": [
    "### Opérations illicites"
   ]
  },
  {
   "cell_type": "code",
   "execution_count": 23,
   "metadata": {},
   "outputs": [
    {
     "ename": "TypeError",
     "evalue": "can't multiply sequence by non-int of type 'float'",
     "output_type": "error",
     "traceback": [
      "\u001b[0;31m---------------------------------------------------------------------------\u001b[0m",
      "\u001b[0;31mTypeError\u001b[0m                                 Traceback (most recent call last)",
      "\u001b[0;32m<ipython-input-23-4d07443c027d>\u001b[0m in \u001b[0;36m<module>\u001b[0;34m\u001b[0m\n\u001b[0;32m----> 1\u001b[0;31m \u001b[0;34m'toto'\u001b[0m \u001b[0;34m*\u001b[0m \u001b[0;36m1.3\u001b[0m\u001b[0;34m\u001b[0m\u001b[0;34m\u001b[0m\u001b[0m\n\u001b[0m",
      "\u001b[0;31mTypeError\u001b[0m: can't multiply sequence by non-int of type 'float'"
     ]
    }
   ],
   "source": [
    "'toto' * 1.3"
   ]
  },
  {
   "cell_type": "code",
   "execution_count": 24,
   "metadata": {},
   "outputs": [
    {
     "ename": "TypeError",
     "evalue": "can only concatenate str (not \"int\") to str",
     "output_type": "error",
     "traceback": [
      "\u001b[0;31m---------------------------------------------------------------------------\u001b[0m",
      "\u001b[0;31mTypeError\u001b[0m                                 Traceback (most recent call last)",
      "\u001b[0;32m<ipython-input-24-cca7c5c5848c>\u001b[0m in \u001b[0;36m<module>\u001b[0;34m\u001b[0m\n\u001b[0;32m----> 1\u001b[0;31m \u001b[0;34m'toto'\u001b[0m \u001b[0;34m+\u001b[0m \u001b[0;36m2\u001b[0m\u001b[0;34m\u001b[0m\u001b[0;34m\u001b[0m\u001b[0m\n\u001b[0m",
      "\u001b[0;31mTypeError\u001b[0m: can only concatenate str (not \"int\") to str"
     ]
    }
   ],
   "source": [
    "'toto' + 2"
   ]
  },
  {
   "cell_type": "markdown",
   "metadata": {},
   "source": [
    "### Les méthodes de la classe str"
   ]
  },
  {
   "cell_type": "code",
   "execution_count": 65,
   "metadata": {},
   "outputs": [],
   "source": [
    "my_string = \"Quelle belle journée belle journée\"\n",
    "\n",
    "# Mettre tout en minuscule\n",
    "lower_string = my_string.lower()\n",
    "\n",
    "# Mettre tout en majuscule\n",
    "upper_string = my_string.upper()\n",
    "\n",
    "# Mettre une majuscule au début\n",
    "capitalized_string = my_string.capitalize()\n",
    "\n",
    "# Remplacez une expression\n",
    "replaced_string = my_string.replace(\"journée\", \"soirée\")\n",
    "\n",
    "# Cherchez un bout de la chaine\n",
    "emplacement_de_belle = my_string.find(\"belle\")\n",
    "\n",
    "# Compte le nombre de fois ou apparait un caractère\n",
    "count_string = my_string.count(\"l\")\n",
    "\n",
    "# Diviser une chaine de caractères pour créer une liste\n",
    "splited_string = my_string.split(\" \")\n",
    "\n",
    "# Remplace les {} par la valeur définie dans format\n",
    "my_string = \"Quelle {} et {} journée\".format(\"belle\", \"bonne\")\n",
    "my_string = \"Quelle {adjectif_1} et {adjectif_2} journée\".format(adjectif_2=\"belle\", adjectif_1=\"bonne\")\n",
    "\n"
   ]
  },
  {
   "cell_type": "markdown",
   "metadata": {},
   "source": [
    "**`Exercice`**: travaillez sur la définition de python \n",
    "- remplacez python par lovely python partout dans la chaine de caractère suivante\n",
    "- Affichez la chaine suivante en une seule chaine de caractères en sautant une ligne entre chaque phrase et en faisant commencer chaque phrase par une majuscule.\n",
    "    \n",
    "indice: \n",
    "- On calcule le nombre d'élément d'une liste de la meme manière qu'on calcule la longueur d'une chaine de caratère\n",
    "- On accède au nème éléments d'une liste de la même manière qu'on accède nème caractère d'une chaine de caractères."
   ]
  },
  {
   "cell_type": "code",
   "execution_count": 11,
   "metadata": {},
   "outputs": [],
   "source": [
    "python_definition = \"python is an interpreted high-level general-purpose programming language. its design philosophy emphasizes code readability with its use of significant indentation. its language constructs as well as its object-oriented approach aim to help programmers write clear, logical code for small and large-scale projects.\""
   ]
  },
  {
   "cell_type": "code",
   "execution_count": 12,
   "metadata": {},
   "outputs": [
    {
     "name": "stdout",
     "output_type": "stream",
     "text": [
      "Lovely python is an interpreted high-level general-purpose programming language.\n",
      "Its design philosophy emphasizes code readability with its use of significant indentation.\n",
      "Its language constructs as well as its object-oriented approach aim to help programmers write clear, logical code for small and large-scale projects..\n",
      "\n"
     ]
    }
   ],
   "source": [
    "lovely_python_definition = python_definition.replace(\"python\", \"lovely python\")\n",
    "\n",
    "splitted_definition = lovely_python_definition.split(\". \")\n",
    "\n",
    "new_definition = \"\"\n",
    "for sentence in splitted_definition:\n",
    "    new_definition += sentence.capitalize() + \".\\n\"\n",
    "\n",
    "print(new_definition)"
   ]
  },
  {
   "cell_type": "code",
   "execution_count": 18,
   "metadata": {},
   "outputs": [
    {
     "name": "stdout",
     "output_type": "stream",
     "text": [
      "lovely python is an interpreted high-level general-purpose programming language\n",
      "its design philosophy emphasizes code readability with its use of significant indentation\n",
      "its language constructs as well as its object-oriented approach aim to help programmers write clear, logical code for small and large-scale projects.\n"
     ]
    },
    {
     "ename": "IndexError",
     "evalue": "list index out of range",
     "output_type": "error",
     "traceback": [
      "\u001b[0;31m---------------------------------------------------------------------------\u001b[0m",
      "\u001b[0;31mIndexError\u001b[0m                                Traceback (most recent call last)",
      "\u001b[0;32m<ipython-input-18-6d71762d284c>\u001b[0m in \u001b[0;36m<module>\u001b[0;34m\u001b[0m\n\u001b[1;32m      2\u001b[0m \u001b[0mprint\u001b[0m\u001b[0;34m(\u001b[0m\u001b[0msplitted_definition\u001b[0m\u001b[0;34m[\u001b[0m\u001b[0;36m1\u001b[0m\u001b[0;34m]\u001b[0m\u001b[0;34m)\u001b[0m\u001b[0;34m\u001b[0m\u001b[0;34m\u001b[0m\u001b[0m\n\u001b[1;32m      3\u001b[0m \u001b[0mprint\u001b[0m\u001b[0;34m(\u001b[0m\u001b[0msplitted_definition\u001b[0m\u001b[0;34m[\u001b[0m\u001b[0;36m2\u001b[0m\u001b[0;34m]\u001b[0m\u001b[0;34m)\u001b[0m\u001b[0;34m\u001b[0m\u001b[0;34m\u001b[0m\u001b[0m\n\u001b[0;32m----> 4\u001b[0;31m \u001b[0mprint\u001b[0m\u001b[0;34m(\u001b[0m\u001b[0msplitted_definition\u001b[0m\u001b[0;34m[\u001b[0m\u001b[0;36m3\u001b[0m\u001b[0;34m]\u001b[0m\u001b[0;34m)\u001b[0m\u001b[0;34m\u001b[0m\u001b[0;34m\u001b[0m\u001b[0m\n\u001b[0m",
      "\u001b[0;31mIndexError\u001b[0m: list index out of range"
     ]
    }
   ],
   "source": [
    "print(splitted_definition[0])\n",
    "print(splitted_definition[1])\n",
    "print(splitted_definition[2])\n"
   ]
  },
  {
   "cell_type": "markdown",
   "metadata": {},
   "source": [
    "## Les booléens en détail"
   ]
  },
  {
   "cell_type": "code",
   "execution_count": 19,
   "metadata": {},
   "outputs": [],
   "source": [
    "x = 8\n",
    "y = 9\n",
    "z = [7 ,8 ]"
   ]
  },
  {
   "cell_type": "code",
   "execution_count": 20,
   "metadata": {},
   "outputs": [
    {
     "data": {
      "text/plain": [
       "list"
      ]
     },
     "execution_count": 20,
     "metadata": {},
     "output_type": "execute_result"
    }
   ],
   "source": [
    "type(z)"
   ]
  },
  {
   "cell_type": "code",
   "execution_count": 25,
   "metadata": {},
   "outputs": [
    {
     "data": {
      "text/plain": [
       "True"
      ]
     },
     "execution_count": 25,
     "metadata": {},
     "output_type": "execute_result"
    }
   ],
   "source": [
    "x <= y"
   ]
  },
  {
   "cell_type": "code",
   "execution_count": 27,
   "metadata": {},
   "outputs": [
    {
     "data": {
      "text/plain": [
       "False"
      ]
     },
     "execution_count": 27,
     "metadata": {},
     "output_type": "execute_result"
    }
   ],
   "source": [
    "type(z) is int"
   ]
  },
  {
   "cell_type": "code",
   "execution_count": 29,
   "metadata": {},
   "outputs": [
    {
     "data": {
      "text/plain": [
       "True"
      ]
     },
     "execution_count": 29,
     "metadata": {},
     "output_type": "execute_result"
    }
   ],
   "source": [
    "isinstance(x, int)"
   ]
  },
  {
   "cell_type": "code",
   "execution_count": 31,
   "metadata": {},
   "outputs": [
    {
     "data": {
      "text/plain": [
       "False"
      ]
     },
     "execution_count": 31,
     "metadata": {},
     "output_type": "execute_result"
    }
   ],
   "source": [
    "x not in z"
   ]
  },
  {
   "cell_type": "code",
   "execution_count": 32,
   "metadata": {},
   "outputs": [],
   "source": [
    "t = True\n",
    "f = False"
   ]
  },
  {
   "cell_type": "code",
   "execution_count": 104,
   "metadata": {},
   "outputs": [
    {
     "name": "stdout",
     "output_type": "stream",
     "text": [
      "False\n",
      "True\n",
      "True\n",
      "True\n",
      "False\n",
      "False\n",
      "True\n",
      "True\n",
      "False\n",
      "True\n",
      "True\n",
      "False\n",
      "True\n",
      "False\n",
      "True\n"
     ]
    }
   ],
   "source": [
    "\n",
    "\"\"\"Les booléens sont souvent le résultat d'une comparaison \"\"\"\n",
    "\n",
    "print( x == y ) #equal\n",
    "\n",
    "print( x != y ) # not equal\n",
    "\n",
    "print( x < y ) #strictly less than\n",
    "\n",
    "print( x <= y ) #less than or equal\n",
    "\n",
    "print( x > y ) #strictly greater than\n",
    "\n",
    "print( x >= y ) #greater than or equal\n",
    "\n",
    "\"\"\" ou le résultat d'affirmation \"\"\"\n",
    "\n",
    "print( type(x) is int ) # être\n",
    "\n",
    "print( type(x) is not str ) # ou ne pas être\n",
    "\n",
    "print (isinstance(x,str))\n",
    "\n",
    "print( x in z) # appartenir\n",
    "\n",
    "print( y not in z ) # ou ne pas appartenir\n",
    "\n",
    "\"\"\" enfin ils peuvent être combiné grâve à des opérateurs logique \"\"\"\n",
    "t = True\n",
    "f = False\n",
    "\n",
    "print( t and f) # s'écrit aussi &\n",
    "print( t or f) # s'écrit aussi | \n",
    "print( not t)\n",
    "print( not f)"
   ]
  },
  {
   "cell_type": "code",
   "execution_count": 35,
   "metadata": {},
   "outputs": [],
   "source": [
    "if 0:\n",
    "    print(\"hello\")"
   ]
  },
  {
   "cell_type": "markdown",
   "metadata": {},
   "source": [
    "## Conversion de type"
   ]
  },
  {
   "cell_type": "markdown",
   "metadata": {},
   "source": [
    "Voici les conversions de type en Python :\n",
    "\n",
    "- Conversion d'une valeur en entier : int(valeur)\n",
    "- Conversion d'une valeur en flottant : float(valeur)\n",
    "- Conversion d'une valeur en chaîne de caractères : str(valeur)\n",
    "- Conversion d'une valeur en booléen : bool(valeur)\n",
    "\n",
    "Notez que pour la conversion en booléen, la valeur résultante dépend de la valeur de la variable d'origine :\n",
    "\n",
    "- Si la valeur d'origine est égale à 0, False ou vide, la valeur booléenne sera False.\n",
    "- Dans tous les autres cas, la valeur booléenne sera True."
   ]
  },
  {
   "cell_type": "code",
   "execution_count": 27,
   "metadata": {},
   "outputs": [
    {
     "name": "stdout",
     "output_type": "stream",
     "text": [
      "<class 'int'>\n"
     ]
    }
   ],
   "source": [
    "valeur = \"123\"\n",
    "entier = int(valeur)\n",
    "print(type(entier)) "
   ]
  },
  {
   "cell_type": "code",
   "execution_count": 28,
   "metadata": {},
   "outputs": [
    {
     "name": "stdout",
     "output_type": "stream",
     "text": [
      "<class 'int'>\n"
     ]
    }
   ],
   "source": [
    "flottant = 3.14\n",
    "entier = int(flottant)\n",
    "print(type(entier))"
   ]
  },
  {
   "cell_type": "code",
   "execution_count": 29,
   "metadata": {},
   "outputs": [
    {
     "name": "stdout",
     "output_type": "stream",
     "text": [
      "<class 'str'>\n"
     ]
    }
   ],
   "source": [
    "entier = 123\n",
    "chaine = str(entier)\n",
    "print(type(chaine)) "
   ]
  },
  {
   "cell_type": "code",
   "execution_count": 30,
   "metadata": {},
   "outputs": [
    {
     "name": "stdout",
     "output_type": "stream",
     "text": [
      "False\n",
      "True\n"
     ]
    }
   ],
   "source": [
    "entier = 0\n",
    "booleen = bool(entier)\n",
    "print(booleen) \n",
    "\n",
    "entier = 123\n",
    "booleen = bool(entier)\n",
    "print(booleen)  \n"
   ]
  },
  {
   "cell_type": "markdown",
   "metadata": {},
   "source": [
    "Notez que pour les conversions d'un flottant en chaîne de caractères ou d'un booléen, le processus est similaire à celui des exemples ci-dessus."
   ]
  },
  {
   "cell_type": "markdown",
   "metadata": {},
   "source": [
    "**`Exercice`**: Conversion de températures\n",
    "- Créez une variable temp_celsius qui contient une température en degrés Celsius sous forme de nombre réel.\n",
    "\n",
    "- Utilisez une opération arithmétique pour convertir cette température en degrés Fahrenheit.\n",
    "\n",
    "- Stockez le résultat dans une variable appelée temp_fahrenheit.\n",
    "\n",
    "- Utilisez une opération arithmétique pour convertir la température en degrés Kelvin.\n",
    "\n",
    "- Stockez le résultat dans une variable appelée temp_kelvin.\n",
    "\n",
    "- Utilisez des chaînes de caractères formatées pour afficher la température en degrés Celsius, Fahrenheit et Kelvin avec deux décimales après la virgule."
   ]
  },
  {
   "cell_type": "code",
   "execution_count": 1,
   "metadata": {},
   "outputs": [
    {
     "name": "stdout",
     "output_type": "stream",
     "text": [
      "25.00 °C = 77.00 °F = 298.15 K\n"
     ]
    }
   ],
   "source": [
    "# 1. Température en degrés Celsius\n",
    "temp_celsius = 25.0\n",
    "\n",
    "# 2. Conversion en degrés Fahrenheit\n",
    "temp_fahrenheit = (temp_celsius * 9/5) + 32\n",
    "\n",
    "# 3. Conversion en degrés Kelvin\n",
    "temp_kelvin = temp_celsius + 273.15\n",
    "\n",
    "# 4. Affichage des températures\n",
    "print(f\"{temp_celsius:.2f} °C = {temp_fahrenheit:.2f} °F = {temp_kelvin:.2f} K\")\n"
   ]
  },
  {
   "cell_type": "markdown",
   "metadata": {},
   "source": [
    "**`Exercice`**:  Conversion de types\n",
    "Créez une variable nombre qui contient un nombre entier.\n",
    "\n",
    "Convertissez ce nombre en chaîne de caractères et stockez le résultat dans une variable chaine.\n",
    "\n",
    "Affichez chaine et sa longueur à l'aide de la fonction len().\n",
    "\n",
    "Convertissez chaine en nombre à virgule flottante et stockez le résultat dans une variable nombre_flottant.\n",
    "\n",
    "Ajoutez nombre à nombre_flottant et stockez le résultat dans une variable somme.\n",
    "\n",
    "Affichez somme et son type."
   ]
  },
  {
   "cell_type": "code",
   "execution_count": 3,
   "metadata": {},
   "outputs": [
    {
     "name": "stdout",
     "output_type": "stream",
     "text": [
      "Chaîne : 42\n",
      "Longueur : 2\n",
      "Somme : 84.0\n",
      "Type : <class 'float'>\n"
     ]
    }
   ],
   "source": [
    "# 1. Entier\n",
    "nombre = 42\n",
    "\n",
    "# 2. Conversion en chaîne de caractères\n",
    "chaine = str(nombre)\n",
    "\n",
    "# 3. Affichage de la chaîne et de sa longueur\n",
    "print(f\"Chaîne : {chaine}\")\n",
    "print(f\"Longueur : {len(chaine)}\")\n",
    "\n",
    "# 4. Conversion en nombre flottant\n",
    "nombre_flottant = float(chaine)\n",
    "\n",
    "# 5. Addition de nombre et nombre_flottant\n",
    "somme = nombre + nombre_flottant\n",
    "\n",
    "# 6. Affichage de la somme et de son type\n",
    "print(f\"Somme : {somme}\")\n",
    "print(f\"Type : {type(somme)}\")\n"
   ]
  },
  {
   "cell_type": "code",
   "execution_count": null,
   "metadata": {},
   "outputs": [],
   "source": []
  }
 ],
 "metadata": {
  "kernelspec": {
   "display_name": "Python 3",
   "language": "python",
   "name": "python3"
  },
  "language_info": {
   "codemirror_mode": {
    "name": "ipython",
    "version": 3
   },
   "file_extension": ".py",
   "mimetype": "text/x-python",
   "name": "python",
   "nbconvert_exporter": "python",
   "pygments_lexer": "ipython3",
   "version": "3.8.5"
  },
  "vscode": {
   "interpreter": {
    "hash": "aee8b7b246df8f9039afb4144a1f6fd8d2ca17a180786b69acc140d282b71a49"
   }
  }
 },
 "nbformat": 4,
 "nbformat_minor": 4
}
