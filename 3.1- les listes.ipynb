{
 "cells": [
  {
   "cell_type": "markdown",
   "metadata": {},
   "source": [
    "# Les listes "
   ]
  },
  {
   "cell_type": "markdown",
   "metadata": {},
   "source": [
    "## Notions fondamentales autour des listes"
   ]
  },
  {
   "cell_type": "markdown",
   "metadata": {},
   "source": [
    "### Définition et déclaration"
   ]
  },
  {
   "cell_type": "markdown",
   "metadata": {},
   "source": [
    "Une liste est une collection d'objet:\n",
    "- qui peuvent avoir la même nature ou non\n",
    "- dont l'ordre compte, elle est ordonnée (contrairement aux dictionnaires) \n",
    "- dont les éléments peuvent être modifiés (contrairement aux tuples)"
   ]
  },
  {
   "cell_type": "code",
   "execution_count": 1,
   "metadata": {},
   "outputs": [],
   "source": [
    "liste_de_nombres = [1, 2, 3, 5, 7, 11, 13, 17,17]\n",
    "liste_de_strings = [\"a\", \"b\", \"abc\"]\n",
    "liste_multiple_types = [7, 4.2, \"un truc\", True, [\"une\",\"autre\",\"liste\"]]"
   ]
  },
  {
   "cell_type": "markdown",
   "metadata": {},
   "source": [
    "### Accèder aux éléments d'une liste"
   ]
  },
  {
   "cell_type": "markdown",
   "metadata": {},
   "source": [
    "On accède aux éléments d'une lliste par le biais de son indice\n",
    "![image](https://railsware.com/blog/wp-content/uploads/2018/10/positive-indexes.png)"
   ]
  },
  {
   "cell_type": "code",
   "execution_count": 3,
   "metadata": {},
   "outputs": [
    {
     "name": "stdout",
     "output_type": "stream",
     "text": [
      "1  est le 1er élément\n",
      "7  est le 5ème élément\n"
     ]
    }
   ],
   "source": [
    "# On accède aux éléments d'une liste ainsi:\n",
    "# soit en partant du début\n",
    "#    le premier élément se trouve à l'indice 0\n",
    "print(liste_de_nombres[0], \" est le 1er élément\")\n",
    "print(liste_de_nombres[4], \" est le 5ème élément\") "
   ]
  },
  {
   "cell_type": "code",
   "execution_count": 6,
   "metadata": {},
   "outputs": [
    {
     "ename": "IndexError",
     "evalue": "list index out of range",
     "output_type": "error",
     "traceback": [
      "\u001b[0;31m---------------------------------------------------------------------------\u001b[0m",
      "\u001b[0;31mIndexError\u001b[0m                                Traceback (most recent call last)",
      "\u001b[0;32m<ipython-input-6-9e29d1e50069>\u001b[0m in \u001b[0;36m<module>\u001b[0;34m\u001b[0m\n\u001b[0;32m----> 1\u001b[0;31m \u001b[0mprint\u001b[0m\u001b[0;34m(\u001b[0m\u001b[0mliste_de_nombres\u001b[0m\u001b[0;34m[\u001b[0m\u001b[0;36m11\u001b[0m\u001b[0;34m]\u001b[0m\u001b[0;34m,\u001b[0m \u001b[0;34m\" est le 5ème élément\"\u001b[0m\u001b[0;34m)\u001b[0m\u001b[0;34m\u001b[0m\u001b[0;34m\u001b[0m\u001b[0m\n\u001b[0m",
      "\u001b[0;31mIndexError\u001b[0m: list index out of range"
     ]
    }
   ],
   "source": [
    "print(liste_de_nombres[11], \" est le 5ème élément\") "
   ]
  },
  {
   "cell_type": "code",
   "execution_count": null,
   "metadata": {},
   "outputs": [],
   "source": [
    "# soit par la fin\n",
    "print(liste_de_nombres[-1], \" est le dernier élément\")"
   ]
  },
  {
   "cell_type": "markdown",
   "metadata": {},
   "source": [
    "### Supprimer des éléments"
   ]
  },
  {
   "cell_type": "code",
   "execution_count": 2,
   "metadata": {},
   "outputs": [
    {
     "name": "stdout",
     "output_type": "stream",
     "text": [
      "1  est le 1er élément\n",
      "7  est le 5ème élément\n",
      "17  est le dernier élément\n"
     ]
    },
    {
     "data": {
      "text/plain": [
       "[5, 7, 11, 13]"
      ]
     },
     "execution_count": 2,
     "metadata": {},
     "output_type": "execute_result"
    }
   ],
   "source": [
    "# On peut supprimer un élément en se servant de son indice\n",
    "del liste_foutoire[3]\n",
    "\n",
    "# On peut également selectionner une partie de la liste\n",
    "liste_de_nombres[1:3]\n",
    "\n",
    "# On peut également  selectionner tous les premiers ou tous les derniers éléments\n",
    "liste_de_nombres[:3]\n",
    "liste_de_nombres[3:]\n",
    "liste_de_nombres[3:-2]\n",
    "\n",
    "liste_foutoire[4][1][2]"
   ]
  },
  {
   "cell_type": "markdown",
   "metadata": {},
   "source": [
    "### Selection par tranches"
   ]
  },
  {
   "cell_type": "markdown",
   "metadata": {},
   "source": [
    "Un autre avantage des listes est la possibilité de sélectionner une partie d'une liste en utilisant un indiçage construit sur le modèle [m:n+1] pour récupérer tous les éléments, du émième au énième (de l'élément m inclus à l'élément n+1 exclu). On dit alors qu'on récupère une tranche de la liste, par exemple :"
   ]
  },
  {
   "cell_type": "code",
   "execution_count": 8,
   "metadata": {},
   "outputs": [
    {
     "data": {
      "text/plain": [
       "[7, 5, 3, 2, 1]"
      ]
     },
     "execution_count": 8,
     "metadata": {},
     "output_type": "execute_result"
    }
   ],
   "source": [
    "#Obtenir une liste en sens inverse\n",
    "liste_de_nombres[4::-1]"
   ]
  },
  {
   "cell_type": "markdown",
   "metadata": {},
   "source": [
    "### Fonctions utiles"
   ]
  },
  {
   "cell_type": "code",
   "execution_count": 14,
   "metadata": {},
   "outputs": [
    {
     "name": "stdout",
     "output_type": "stream",
     "text": [
      "[('Netflix', 198), ('Hulu', 166), ('Sling', 237), ('Hbo', 125)]\n"
     ]
    }
   ],
   "source": [
    "# connaitre le nombre d'éléments dans une liste\n",
    "len(liste_de_nombres)\n",
    "\n",
    "# connaitre la somme d'une liste numérique\n",
    "sum(liste_de_nombres)\n",
    "\n",
    "# connaitre le maximum ou le minimum d'une liste numérique\n",
    "max(liste_de_nombres)\n",
    "min(liste_de_nombres)\n",
    "\n",
    "# connaitre tous les élements uniques\n",
    "set(liste_de_nombres)\n",
    "\n",
    "# savoir si les éléments d'une liste sont dans une deuxième liste\n",
    "liste2 = [1,2,3]\n",
    "set(liste2) < set(liste_de_nombres)\n",
    "\n",
    "# Créer une liste de tuples à partir de deux liste\n",
    "lst1=[\"Netflix\", \"Hulu\", \"Sling\", \"Hbo\"]\n",
    "lst2=[198, 166, 237, 125]\n",
    "liste_agreg = list(zip(lst1,lst2))\n",
    "print(liste_agreg)"
   ]
  },
  {
   "cell_type": "markdown",
   "metadata": {},
   "source": [
    "## Méthodes associées à la classe liste"
   ]
  },
  {
   "cell_type": "code",
   "execution_count": 16,
   "metadata": {},
   "outputs": [
    {
     "data": {
      "text/plain": [
       "[-1, 1, 1, 2, 2, 3, 3, 5, 7, 11, 13, 17, 17, 89]"
      ]
     },
     "execution_count": 16,
     "metadata": {},
     "output_type": "execute_result"
    }
   ],
   "source": [
    "liste_de_nombres"
   ]
  },
  {
   "cell_type": "code",
   "execution_count": 15,
   "metadata": {},
   "outputs": [
    {
     "data": {
      "text/plain": [
       "True"
      ]
     },
     "execution_count": 15,
     "metadata": {},
     "output_type": "execute_result"
    }
   ],
   "source": [
    "# ajouter un élément à la fin une liste\n",
    "liste_de_nombres.append(89)\n",
    "\n",
    "# Ajoute un élément à une liste à une certaine position (ici au début: 0)\n",
    "liste_de_nombres.insert(0, -1) # d'abord l'indice puis ce qu'on ajoute\n",
    "\n",
    "# concatène deux listes (ajoute une liste à une autre)\n",
    "liste_de_nombres.extend(liste2)\n",
    "\n",
    "# supprimer un élément d'une liste\n",
    "liste_de_strings.remove(\"abc\")\n",
    "\n",
    "# supprime le dernier élément d'une liste\n",
    "liste_de_strings.pop()\n",
    "\n",
    "# ordonner les éléments d'une liste\n",
    "liste_de_nombres.sort()\n",
    "\n",
    "# retrouve l’indice de la première occurrence d’un élément à chercher dans notre liste ;\n",
    "liste_de_nombres.index(5)\n",
    "\n",
    "# savoir si une liste est une sous liste d'une autre\n",
    "set(liste2).issubset(liste_de_nombres)"
   ]
  },
  {
   "cell_type": "markdown",
   "metadata": {},
   "source": [
    "Pour les autres méthodes voir la : https://docs.python.org/fr/3/tutorial/datastructures.html"
   ]
  },
  {
   "cell_type": "code",
   "execution_count": 24,
   "metadata": {},
   "outputs": [
    {
     "name": "stdout",
     "output_type": "stream",
     "text": [
      "None\n",
      "[1, 2, 3, 5, 7, 11, 13, 17, 'a', 'b', 'abc']\n"
     ]
    }
   ],
   "source": [
    "liste_de_nombres = [1, 2, 3, 5, 7, 11, 13, 17]\n",
    "liste_de_strings = [\"a\", \"b\", \"abc\"]\n",
    "\n",
    "# concatène deux listes (ajoute une liste à une autre)\n",
    "liste_concat = liste_de_nombres.extend(liste_de_strings)\n",
    "print(liste_concat)\n",
    "print(liste_de_nombres)"
   ]
  },
  {
   "cell_type": "code",
   "execution_count": 28,
   "metadata": {},
   "outputs": [
    {
     "name": "stdout",
     "output_type": "stream",
     "text": [
      "[1, 2]\n",
      "[1, 2, 3]\n"
     ]
    }
   ],
   "source": [
    "my_list = [1,2,3]\n",
    "new_list = my_list.copy()\n",
    "new_list.pop()\n",
    "\n",
    "print(new_list)\n",
    "print(my_list)"
   ]
  },
  {
   "cell_type": "markdown",
   "metadata": {},
   "source": [
    "### Liste de listes"
   ]
  },
  {
   "cell_type": "code",
   "execution_count": 10,
   "metadata": {},
   "outputs": [],
   "source": [
    "liste_de_liste = [liste_de_nombres, liste_de_strings, liste_multiple_types]"
   ]
  },
  {
   "cell_type": "markdown",
   "metadata": {},
   "source": [
    "**`Exercice`**: \n",
    "Le but de cet exercice est de créer une liste de films et d'afficher des informations sur cette liste.\n",
    "\n",
    "- Créez une liste nommée films contenant les éléments suivants :\n",
    "\n",
    "\"The Shawshank Redemption\"\n",
    "\"The Godfather\"\n",
    "\"The Dark Knight\"\n",
    "\"The Lord of the Rings: The Return of the King\"\n",
    "\"Pulp Fiction\"\n",
    "\"Forrest Gump\"\n",
    "\"The Matrix\"\n",
    "\"Star Wars: Episode IV - A New Hope\"\n",
    "\n",
    "- Affichez le premier élément de la liste.\n",
    "\n",
    "- Affichez le dernier élément de la liste.\n",
    "\n",
    "- Ajoutez le film \"Inception\" à la fin de la liste.\n",
    "\n",
    "- Affichez la nouvelle longueur de la liste.\n",
    "\n",
    "- Utilisez la méthode sort() pour trier la liste dans l'ordre alphabétique.\n",
    "\n",
    "- Affichez la liste triée.\n",
    "\n",
    "- Créez une variable nommée film_preferé et affectez-lui la valeur \"The Matrix\".\n",
    "\n",
    "- Affichez l'index de film_preferé dans la liste.\n",
    "\n",
    "- Supprimez film_preferé de la liste.\n",
    "\n",
    "- Affichez la nouvelle longueur de la liste.\n",
    "\n",
    "- Utilisez la méthode reverse() pour inverser l'ordre des éléments dans la liste.\n",
    "\n",
    "- Affichez la liste inversée."
   ]
  },
  {
   "cell_type": "code",
   "execution_count": 2,
   "metadata": {},
   "outputs": [
    {
     "name": "stdout",
     "output_type": "stream",
     "text": [
      "The Shawshank Redemption\n",
      "Star Wars: Episode IV - A New Hope\n",
      "9\n",
      "['Forrest Gump', 'Inception', 'Pulp Fiction', 'Star Wars: Episode IV - A New Hope', 'The Dark Knight', 'The Godfather', 'The Lord of the Rings: The Return of the King', 'The Matrix', 'The Shawshank Redemption']\n",
      "7\n",
      "8\n",
      "['The Shawshank Redemption', 'The Lord of the Rings: The Return of the King', 'The Godfather', 'The Dark Knight', 'Star Wars: Episode IV - A New Hope', 'Pulp Fiction', 'Inception', 'Forrest Gump']\n"
     ]
    }
   ],
   "source": [
    "# Liste de films\n",
    "films = [\"The Shawshank Redemption\",\n",
    "         \"The Godfather\",\n",
    "         \"The Dark Knight\",\n",
    "         \"The Lord of the Rings: The Return of the King\",\n",
    "         \"Pulp Fiction\",\n",
    "         \"Forrest Gump\",\n",
    "         \"The Matrix\",\n",
    "         \"Star Wars: Episode IV - A New Hope\"]\n",
    "\n",
    "# Afficher le premier élément de la liste\n",
    "print(films[0])\n",
    "\n",
    "# Afficher le dernier élément de la liste\n",
    "print(films[-1])\n",
    "\n",
    "# Ajouter \"Inception\" à la fin de la liste\n",
    "films.append(\"Inception\")\n",
    "\n",
    "# Afficher la nouvelle longueur de la liste\n",
    "print(len(films))\n",
    "\n",
    "# Trier la liste dans l'ordre alphabétique\n",
    "films.sort()\n",
    "\n",
    "# Afficher la liste triée\n",
    "print(films)\n",
    "\n",
    "# Définir un film préféré\n",
    "film_preferé = \"The Matrix\"\n",
    "\n",
    "# Afficher l'index de film_preferé dans la liste\n",
    "print(films.index(film_preferé))\n",
    "\n",
    "# Supprimer film_preferé de la liste\n",
    "films.remove(film_preferé)\n",
    "\n",
    "# Afficher la nouvelle longueur de la liste\n",
    "print(len(films))\n",
    "\n",
    "# Inverser l'ordre des éléments dans la liste\n",
    "films.reverse()\n",
    "\n",
    "# Afficher la liste inversée\n",
    "print(films)\n"
   ]
  },
  {
   "cell_type": "code",
   "execution_count": 35,
   "metadata": {},
   "outputs": [
    {
     "data": {
      "text/plain": [
       "[3, 6, 52, 98, 1045]"
      ]
     },
     "execution_count": 35,
     "metadata": {},
     "output_type": "execute_result"
    }
   ],
   "source": [
    "liste_nombres = [1, 6, 98, 52, 1045, 3]\n",
    "\n",
    "# 1) classez la liste en ordre croissant\n",
    "\n",
    "# 2) supprimez le premier élément de la liste\n",
    "\n",
    "# 3) ajoutez le nombre \"1097\" à la fin de la liste\n",
    "\n",
    "# 4) récupérez le deuxième élément dans une variable \"deuxieme_element\"\n",
    "deuxieme_element = \n",
    "print(deuxieme_element) # la console devrait afficher \"6\" !\n",
    "\n",
    "# 5) affichez la longueur de la liste\n"
   ]
  },
  {
   "cell_type": "code",
   "execution_count": 8,
   "metadata": {},
   "outputs": [
    {
     "name": "stdout",
     "output_type": "stream",
     "text": [
      "6\n",
      "6\n"
     ]
    }
   ],
   "source": [
    "liste_nombres = [1, 6, 98, 52, 1045, 3]\n",
    "\n",
    "# classez la liste en ordre croissant\n",
    "liste_nombres.sort()\n",
    "\n",
    "# supprimez le premier élément de la liste\n",
    "liste_nombres.pop(0)\n",
    "\n",
    "# ajoutez le nombre \"1097\" à la fin de la liste\n",
    "liste_nombres.append(1097)\n",
    "\n",
    "# récupérez le deuxième élément dans une variable \"deuxieme_element\"\n",
    "deuxieme_element = liste_nombres[1]\n",
    "print(deuxieme_element) # la console devrait afficher \"6\" !\n",
    "\n",
    "# affichez la longueur de la liste\n",
    "longueur_liste = len(liste_nombres)\n",
    "print(longueur_liste)\n"
   ]
  },
  {
   "cell_type": "markdown",
   "metadata": {},
   "source": [
    "# Créer un dictionnaire"
   ]
  },
  {
   "cell_type": "markdown",
   "metadata": {},
   "source": [
    "Un dictionnaire est un objet permettant de stocker des informations à l'aide d'un système clé/valeur.\n",
    "A chaque clé correspond une valeur, les clés n'ont pas d'odre entre elles."
   ]
  },
  {
   "cell_type": "markdown",
   "metadata": {},
   "source": [
    "![images](https://user.oc-static.com/upload/2021/06/23/16244537609264_1C6-1.png)"
   ]
  },
  {
   "cell_type": "markdown",
   "metadata": {},
   "source": [
    "Créer un dictionnaire vide"
   ]
  },
  {
   "cell_type": "code",
   "execution_count": null,
   "metadata": {},
   "outputs": [
    {
     "name": "stdout",
     "output_type": "stream",
     "text": [
      "{}\n"
     ]
    }
   ],
   "source": [
    "new_dict={}\n",
    "new_dict = dict()\n",
    "print(new_dict)"
   ]
  },
  {
   "cell_type": "markdown",
   "metadata": {},
   "source": [
    "Créer un dictionnaire contenant des données"
   ]
  },
  {
   "cell_type": "code",
   "execution_count": null,
   "metadata": {},
   "outputs": [
    {
     "name": "stdout",
     "output_type": "stream",
     "text": [
      "{'responsable_de_campagne': \"Jeanne d'Arc\", 'nom_de_campagne': 'Campagne nous aimons les chiens', 'date_de_début': 1012020, 'influenceurs_importants': ['@MonAmourDeChien', '@MeilleuresFriandisesPourChiens']}\n"
     ]
    }
   ],
   "source": [
    "nouvelle_campagne = {\n",
    "    \"responsable_de_campagne\": \"Jeanne d'Arc\",\n",
    "    \"nom_de_campagne\": \"Campagne nous aimons les chiens\",\n",
    "    \"date_de_début\": 1012020,\n",
    "    \"influenceurs_importants\": [\"@MonAmourDeChien\", \"@MeilleuresFriandisesPourChiens\"]\n",
    "}\n",
    "print(nouvelle_campagne)"
   ]
  },
  {
   "cell_type": "code",
   "execution_count": null,
   "metadata": {},
   "outputs": [
    {
     "data": {
      "text/plain": [
       "\"Jeanne d'Arc\""
      ]
     },
     "metadata": {},
     "output_type": "display_data"
    }
   ],
   "source": [
    "# Accéder à une valeur à partir de sa clé\n",
    "nouvelle_campagne[\"responsable_de_campagne\"]"
   ]
  },
  {
   "cell_type": "code",
   "execution_count": null,
   "metadata": {},
   "outputs": [],
   "source": [
    "# Les valeurs peuvent être de n'importe quel type\n",
    "trucs_appris_en_python = { \"lesstrings\": \"exemple\", \"lesintegers\": 9, \"leslistes\": [7,8,9], \"les booleen\": True }"
   ]
  },
  {
   "cell_type": "code",
   "execution_count": null,
   "metadata": {},
   "outputs": [
    {
     "data": {
      "text/plain": [
       "{'lesstrings': 'exemple',\n",
       " 'lesintegers': 9,\n",
       " 'leslistes': [7, 8, 9],\n",
       " 'les booleen': True,\n",
       " 'lesfloats': 3.8}"
      ]
     },
     "metadata": {},
     "output_type": "display_data"
    }
   ],
   "source": [
    "# On peut à tout moment ajouter une nouvelle clé à un dictionnaire en lui attribuant une valeur\n",
    "trucs_appris_en_python['lesfloats'] = 3.8\n",
    "trucs_appris_en_python"
   ]
  },
  {
   "cell_type": "code",
   "execution_count": null,
   "metadata": {},
   "outputs": [
    {
     "data": {
      "text/plain": [
       "{'facebook': 3.4, 'instagram': 1.8}"
      ]
     },
     "metadata": {},
     "output_type": "display_data"
    }
   ],
   "source": [
    "# autre manières de créer un dictionnaire et de le remplir\n",
    "taux_de_conversion = {}\n",
    "taux_de_conversion['facebook'] = 3.4\n",
    "taux_de_conversion['instagram'] = 1.2\n",
    "\n",
    "# encore une autre créer un dictionnaire et de le remplir\n",
    "taux_de_conversion = dict()\n",
    "taux_de_conversion['facebook'] = 3.4\n",
    "taux_de_conversion['instagram'] = 1.2\n",
    "taux_de_conversion['instagram'] = 1.8\n",
    "taux_de_conversion"
   ]
  },
  {
   "cell_type": "code",
   "execution_count": null,
   "metadata": {},
   "outputs": [
    {
     "name": "stdout",
     "output_type": "stream",
     "text": [
      "exemple\n",
      "3.4\n"
     ]
    }
   ],
   "source": [
    "# On accède au valeur grâce à sa clé\n",
    "print(trucs_appris_en_python['lesstrings'])\n",
    "print(taux_de_conversion['facebook'])\n"
   ]
  },
  {
   "cell_type": "code",
   "execution_count": null,
   "metadata": {},
   "outputs": [
    {
     "name": "stdout",
     "output_type": "stream",
     "text": [
      "{'instagram': 1.8}\n"
     ]
    },
    {
     "data": {
      "text/plain": [
       "{'lesstrings': 'exemple',\n",
       " 'lesintegers': 9,\n",
       " 'leslistes': [7, 8, 9],\n",
       " 'les booleen': True}"
      ]
     },
     "metadata": {},
     "output_type": "display_data"
    }
   ],
   "source": [
    "# supprimer un couple clef/valeur\n",
    "del taux_de_conversion['facebook']\n",
    "print(taux_de_conversion)\n",
    "\n",
    "# une autre manière de supprimer un couple cle/valeur:\n",
    "trucs_appris_en_python.pop('lesfloats') \n",
    "trucs_appris_en_python"
   ]
  },
  {
   "cell_type": "code",
   "execution_count": null,
   "metadata": {},
   "outputs": [
    {
     "name": "stdout",
     "output_type": "stream",
     "text": [
      "True\n",
      "True\n"
     ]
    }
   ],
   "source": [
    "# vérifier l'existence d'une clef:\n",
    "print(\"instagram\" in taux_de_conversion)\n",
    "print(1.8 in taux_de_conversion.values())"
   ]
  },
  {
   "cell_type": "code",
   "execution_count": null,
   "metadata": {},
   "outputs": [
    {
     "name": "stdout",
     "output_type": "stream",
     "text": [
      "dict_keys(['lesstrings', 'lesintegers', 'leslistes', 'les booleen'])\n",
      "dict_values(['exemple', 9, [7, 8, 9], True])\n",
      "dict_items([('lesstrings', 'exemple'), ('lesintegers', 9), ('leslistes', [7, 8, 9]), ('les booleen', True)])\n"
     ]
    }
   ],
   "source": [
    "# trois méthodes importantes liées aux dictionnaires:\n",
    "print(trucs_appris_en_python.keys())\n",
    "print(trucs_appris_en_python.values())\n",
    "print(trucs_appris_en_python.items())"
   ]
  },
  {
   "cell_type": "code",
   "execution_count": null,
   "metadata": {},
   "outputs": [
    {
     "name": "stdout",
     "output_type": "stream",
     "text": [
      "('leslistes', [7, 8, 9])\n"
     ]
    }
   ],
   "source": [
    "print(list(trucs_appris_en_python.items())[2])"
   ]
  },
  {
   "cell_type": "code",
   "execution_count": null,
   "metadata": {},
   "outputs": [],
   "source": [
    "# un dictionnaire n'est pas ordonné, il ne se parcourt pas par ses indices mais par ses clef ou ses valeurs:\n",
    "\n",
    "# Parcours en focntion de la clef\n",
    "for cle in fruits.keys():\n",
    "\n",
    "# Parcours en focntion de la valeur\n",
    "for valeur in fruits.values():\n",
    "\n",
    "# Parcours en fonction du couple clef valeur  \n",
    "for cle, valeur in fruits.items():"
   ]
  },
  {
   "cell_type": "markdown",
   "metadata": {},
   "source": [
    "**`Exercice`**: Créez un dictionnaire vide appelé personne.\n",
    "\n",
    "- Ajoutez les clés nom, prenom et age à ce dictionnaire avec les valeurs de votre choix.\n",
    "\n",
    "- Affichez la valeur associée à la clé prenom.\n",
    "\n",
    "- Modifiez la valeur associée à la clé age.\n",
    "\n",
    "- Ajoutez une nouvelle clé ville à ce dictionnaire avec la valeur de votre choix.\n",
    "\n",
    "- Affichez la liste des clés de ce dictionnaire.\n",
    "\n",
    "- Supprimez la clé ville de ce dictionnaire.\n",
    "\n",
    "- Affichez le dictionnaire complet."
   ]
  },
  {
   "cell_type": "code",
   "execution_count": 1,
   "metadata": {},
   "outputs": [
    {
     "name": "stdout",
     "output_type": "stream",
     "text": [
      "Jean\n",
      "dict_keys(['nom', 'prenom', 'age', 'ville'])\n",
      "{'nom': 'Dupont', 'prenom': 'Jean', 'age': 35}\n"
     ]
    }
   ],
   "source": [
    "# 1. Création d'un dictionnaire vide\n",
    "personne = {}\n",
    "\n",
    "# 2. Ajout de clés et de valeurs au dictionnaire\n",
    "personne['nom'] = 'Dupont'\n",
    "personne['prenom'] = 'Jean'\n",
    "personne['age'] = 30\n",
    "\n",
    "# 3. Affichage de la valeur associée à la clé 'prenom'\n",
    "print(personne['prenom'])\n",
    "\n",
    "# 4. Modification de la valeur associée à la clé 'age'\n",
    "personne['age'] = 35\n",
    "\n",
    "# 5. Ajout d'une nouvelle clé et valeur au dictionnaire\n",
    "personne['ville'] = 'Paris'\n",
    "\n",
    "# 6. Affichage des clés du dictionnaire\n",
    "print(personne.keys())\n",
    "\n",
    "# 7. Suppression de la clé 'ville' du dictionnaire\n",
    "del personne['ville']\n",
    "\n",
    "# 8. Affichage du dictionnaire complet\n",
    "print(personne)"
   ]
  },
  {
   "cell_type": "markdown",
   "metadata": {},
   "source": [
    "# La Mutabilité"
   ]
  },
  {
   "cell_type": "markdown",
   "metadata": {},
   "source": [
    "Observons quelque chose:"
   ]
  },
  {
   "cell_type": "code",
   "execution_count": 1,
   "metadata": {},
   "outputs": [
    {
     "name": "stdout",
     "output_type": "stream",
     "text": [
      "2\n",
      "1\n"
     ]
    }
   ],
   "source": [
    "a = 1\n",
    "\n",
    "b = a\n",
    "\n",
    "a = 2   # on modifie a\n",
    "\n",
    "print(a)\n",
    "print(b)\n",
    "\n",
    "#On voit que b n'a pas été modifié"
   ]
  },
  {
   "cell_type": "code",
   "execution_count": 3,
   "metadata": {},
   "outputs": [
    {
     "name": "stdout",
     "output_type": "stream",
     "text": [
      "[1, 2, 3]\n",
      "[1, 2, 3]\n"
     ]
    }
   ],
   "source": [
    "a = [1,2]\n",
    "\n",
    "b = a\n",
    "\n",
    "a.append(3) # on modifie a\n",
    "\n",
    "print(a)\n",
    "print(b)\n",
    "\n",
    "# b a aussi été modifié"
   ]
  },
  {
   "cell_type": "markdown",
   "metadata": {},
   "source": [
    "Un objet est dit mutable si on peut changer sa valeur après sa création. Il est dit immutable dans le cas contraire.\n",
    "- Objets immutables: Entiers, flottants, complexes, tuples, chaînes de caractères, …\n",
    "- Objets mutables: Listes, dictionnaires, …\n",
    "\n",
    "toutes les variables pointant vers un même objet mutable sont affectées par la modification de cet objet. Ceci ne peut pas se produire lorsque des variables pointent vers un objet immutable puisque celui-ci ne peut-être modifié."
   ]
  },
  {
   "cell_type": "markdown",
   "metadata": {},
   "source": [
    "Pour les dinstiguer on peut utiliser le méthode copy"
   ]
  },
  {
   "cell_type": "code",
   "execution_count": 5,
   "metadata": {},
   "outputs": [
    {
     "name": "stdout",
     "output_type": "stream",
     "text": [
      "[1, 2, 3]\n",
      "[1, 2, 3]\n",
      "[1, 2, 3]\n",
      "[1, 2, 3, 4]\n"
     ]
    }
   ],
   "source": [
    "c = a.copy()\n",
    "\n",
    "print(c)\n",
    "print(a)\n",
    "\n",
    "a.append(4)\n",
    "\n",
    "print(c)\n",
    "print(a)"
   ]
  },
  {
   "cell_type": "markdown",
   "metadata": {},
   "source": [
    "## Apparté sur la fonction range()"
   ]
  },
  {
   "cell_type": "markdown",
   "metadata": {},
   "source": [
    "L'instruction range() est une fonction spéciale en Python qui génère des nombres entiers compris dans un intervalle. Lorsqu'elle est utilisée en combinaison avec la fonction list(), on obtient une liste d'entiers. Par exemple :"
   ]
  },
  {
   "cell_type": "markdown",
   "metadata": {},
   "source": [
    "https://www.w3schools.com/python/ref_func_range.asp"
   ]
  },
  {
   "cell_type": "markdown",
   "metadata": {},
   "source": [
    "L'instruction range() fonctionne sur le modèle range([début,] fin[, pas]). Les arguments entre crochets sont optionnels. Pour obtenir une liste de nombres entiers, il faut l'utiliser systématiquement avec la fonction list().\n",
    "La dernière valeur est exclut."
   ]
  },
  {
   "cell_type": "code",
   "execution_count": 14,
   "metadata": {},
   "outputs": [
    {
     "data": {
      "text/plain": [
       "[0, 1, 2, 3, 4, 5, 6, 7, 8, 9]"
      ]
     },
     "execution_count": 14,
     "metadata": {},
     "output_type": "execute_result"
    }
   ],
   "source": [
    "list(range(10))"
   ]
  },
  {
   "cell_type": "code",
   "execution_count": 16,
   "metadata": {},
   "outputs": [
    {
     "data": {
      "text/plain": [
       "[0, 1, 2, 3, 4]"
      ]
     },
     "execution_count": 16,
     "metadata": {},
     "output_type": "execute_result"
    }
   ],
   "source": [
    "list(range(0, 5))"
   ]
  },
  {
   "cell_type": "code",
   "execution_count": 17,
   "metadata": {},
   "outputs": [
    {
     "data": {
      "text/plain": [
       "[15, 16, 17, 18, 19]"
      ]
     },
     "execution_count": 17,
     "metadata": {},
     "output_type": "execute_result"
    }
   ],
   "source": [
    "list(range(15, 20))"
   ]
  },
  {
   "cell_type": "code",
   "execution_count": 18,
   "metadata": {},
   "outputs": [
    {
     "data": {
      "text/plain": [
       "[0, 200, 400, 600, 800]"
      ]
     },
     "execution_count": 18,
     "metadata": {},
     "output_type": "execute_result"
    }
   ],
   "source": [
    "list(range(0, 1000, 200))"
   ]
  },
  {
   "cell_type": "code",
   "execution_count": 19,
   "metadata": {},
   "outputs": [
    {
     "data": {
      "text/plain": [
       "[2, 1, 0, -1]"
      ]
     },
     "execution_count": 19,
     "metadata": {},
     "output_type": "execute_result"
    }
   ],
   "source": [
    "list(range(2, -2, -1))"
   ]
  }
 ],
 "metadata": {
  "interpreter": {
   "hash": "4822798685b95d90cac6b9eac85a216cd3011e561666c6311e8088bbadca8e0f"
  },
  "kernelspec": {
   "display_name": "Python 3",
   "language": "python",
   "name": "python3"
  },
  "language_info": {
   "codemirror_mode": {
    "name": "ipython",
    "version": 3
   },
   "file_extension": ".py",
   "mimetype": "text/x-python",
   "name": "python",
   "nbconvert_exporter": "python",
   "pygments_lexer": "ipython3",
   "version": "3.8.5"
  }
 },
 "nbformat": 4,
 "nbformat_minor": 4
}
